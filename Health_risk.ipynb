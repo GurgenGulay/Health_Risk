{
  "nbformat": 4,
  "nbformat_minor": 0,
  "metadata": {
    "colab": {
      "provenance": [],
      "toc_visible": true,
      "include_colab_link": true
    },
    "kernelspec": {
      "name": "python3",
      "display_name": "Python 3"
    },
    "language_info": {
      "name": "python"
    }
  },
  "cells": [
    {
      "cell_type": "markdown",
      "metadata": {
        "id": "view-in-github",
        "colab_type": "text"
      },
      "source": [
        "<a href=\"https://colab.research.google.com/github/GurgenGulay/Health_Risk/blob/main/Health_risk.ipynb\" target=\"_parent\"><img src=\"https://colab.research.google.com/assets/colab-badge.svg\" alt=\"Open In Colab\"/></a>"
      ]
    },
    {
      "cell_type": "code",
      "execution_count": null,
      "metadata": {
        "id": "SFc4naG18LVu"
      },
      "outputs": [],
      "source": [
        "import numpy as np\n",
        "import pandas as pd\n",
        "import seaborn as sns\n",
        "from matplotlib import pyplot as plt\n",
        "from datetime import date\n",
        "from sklearn.metrics import accuracy_score\n",
        "from sklearn.model_selection import train_test_split\n",
        "from sklearn.neighbors import LocalOutlierFactor\n",
        "from sklearn.preprocessing import MinMaxScaler, LabelEncoder, StandardScaler, RobustScaler\n",
        "from sklearn.ensemble import RandomForestClassifier\n",
        "from sklearn.metrics import roc_auc_score, roc_curve\n",
        "import csv\n",
        "\n",
        "pd.set_option('expand_frame_repr', True)\n",
        "pd.set_option(\"display.max_rows\", 999)\n",
        "pd.set_option('max_colwidth', 100)"
      ]
    },
    {
      "cell_type": "code",
      "source": [
        "file_path = '/content/Maternal Health Risk Data Set.csv'\n",
        "df = pd.read_csv(file_path)\n",
        "df.head"
      ],
      "metadata": {
        "colab": {
          "base_uri": "https://localhost:8080/"
        },
        "id": "fJvO8qsp8i_Q",
        "outputId": "8f4baa94-c69e-404f-d97e-fac6a29f5a4a"
      },
      "execution_count": null,
      "outputs": [
        {
          "output_type": "execute_result",
          "data": {
            "text/plain": [
              "<bound method NDFrame.head of       Age  SystolicBP  DiastolicBP    BS  BodyTemp  HeartRate  RiskLevel\n",
              "0      25         130           80  15.0      98.0         86          1\n",
              "1      35         140           90  13.0      98.0         70          1\n",
              "2      29          90           70   8.0     100.0         80          1\n",
              "3      30         140           85   7.0      98.0         70          1\n",
              "4      35         120           60   6.1      98.0         76          0\n",
              "...   ...         ...          ...   ...       ...        ...        ...\n",
              "1009   22         120           60  15.0      98.0         80          1\n",
              "1010   55         120           90  18.0      98.0         60          1\n",
              "1011   35          85           60  19.0      98.0         86          1\n",
              "1012   43         120           90  18.0      98.0         70          1\n",
              "1013   32         120           65   6.0     101.0         76          0\n",
              "\n",
              "[1014 rows x 7 columns]>"
            ]
          },
          "metadata": {},
          "execution_count": 431
        }
      ]
    },
    {
      "cell_type": "markdown",
      "source": [
        "# Keşifci Veri Analizi\n",
        "*   risk level ----> 1 = riskli, 0 = riskli değil\n",
        "\n",
        "\n",
        "           "
      ],
      "metadata": {
        "id": "I3Nm0Tdk9N2r"
      }
    },
    {
      "cell_type": "code",
      "source": [
        "def checkDf(dataframe, head=8):\n",
        "    print(\"##### Shape #####\")\n",
        "    print(dataframe.shape)\n",
        "    print(\"\\n##### Types #####\")\n",
        "    print(dataframe.dtypes)\n",
        "    print(\"\\n##### Tail #####\")  # sondan 8 indexi göster\n",
        "    print(dataframe.tail(head))\n",
        "    print(\"\\n##### Head #####\")  # baştan 8 indexi göster\n",
        "    print(dataframe.head(head))\n",
        "    print(\"\\n##### Null Analysis #####\")  # null değerlerin sayısı\n",
        "    print(dataframe.isnull().sum())\n",
        "    print(\"\\n##### Quantiles #####\")  # istatistikler (sayı, ortalama, ...)\n",
        "    print(dataframe.describe([0, 0.05, 0.50, 0.95, 0.99, 1]).T)\n",
        "\n",
        "\n",
        "checkDf(df)\n",
        "\n",
        "df.columns = [col.upper() for col in df.columns]  # değişen isimlerini büyük harf yaptık"
      ],
      "metadata": {
        "id": "9wF1jiVT9QW3",
        "colab": {
          "base_uri": "https://localhost:8080/"
        },
        "outputId": "5af4bc8b-7e5e-4ff2-b37b-8b400f56a099"
      },
      "execution_count": null,
      "outputs": [
        {
          "output_type": "stream",
          "name": "stdout",
          "text": [
            "##### Shape #####\n",
            "(1014, 7)\n",
            "\n",
            "##### Types #####\n",
            "Age              int64\n",
            "SystolicBP       int64\n",
            "DiastolicBP      int64\n",
            "BS             float64\n",
            "BodyTemp       float64\n",
            "HeartRate        int64\n",
            "RiskLevel        int64\n",
            "dtype: object\n",
            "\n",
            "##### Tail #####\n",
            "      Age  SystolicBP  DiastolicBP    BS  BodyTemp  HeartRate  RiskLevel\n",
            "1006   17          85           60   6.3     102.0         86          1\n",
            "1007   40         120           75   7.7      98.0         70          1\n",
            "1008   48         120           80  11.0      98.0         88          1\n",
            "1009   22         120           60  15.0      98.0         80          1\n",
            "1010   55         120           90  18.0      98.0         60          1\n",
            "1011   35          85           60  19.0      98.0         86          1\n",
            "1012   43         120           90  18.0      98.0         70          1\n",
            "1013   32         120           65   6.0     101.0         76          0\n",
            "\n",
            "##### Head #####\n",
            "   Age  SystolicBP  DiastolicBP     BS  BodyTemp  HeartRate  RiskLevel\n",
            "0   25         130           80  15.00      98.0         86          1\n",
            "1   35         140           90  13.00      98.0         70          1\n",
            "2   29          90           70   8.00     100.0         80          1\n",
            "3   30         140           85   7.00      98.0         70          1\n",
            "4   35         120           60   6.10      98.0         76          0\n",
            "5   23         140           80   7.01      98.0         70          1\n",
            "6   23         130           70   7.01      98.0         78          1\n",
            "7   35          85           60  11.00     102.0         86          1\n",
            "\n",
            "##### Null Analysis #####\n",
            "Age            0\n",
            "SystolicBP     0\n",
            "DiastolicBP    0\n",
            "BS             0\n",
            "BodyTemp       0\n",
            "HeartRate      0\n",
            "RiskLevel      0\n",
            "dtype: int64\n",
            "\n",
            "##### Quantiles #####\n",
            "              count        mean        std   min    0%     5%    50%     95%    99%   100%    max\n",
            "Age          1014.0   29.871795  13.474386  10.0  10.0  13.65   26.0   55.00   60.0   70.0   70.0\n",
            "SystolicBP   1014.0  113.198225  18.403913  70.0  70.0  85.00  120.0  140.00  140.0  160.0  160.0\n",
            "DiastolicBP  1014.0   76.460552  13.885796  49.0  49.0  60.00   80.0  100.00  100.0  100.0  100.0\n",
            "BS           1014.0    8.725986   3.293532   6.0   6.0   6.10    7.5   17.35   19.0   19.0   19.0\n",
            "BodyTemp     1014.0   98.665089   1.371384  98.0  98.0  98.00   98.0  102.00  103.0  103.0  103.0\n",
            "HeartRate    1014.0   74.301775   8.088702   7.0   7.0  60.00   76.0   88.00   90.0   90.0   90.0\n",
            "RiskLevel    1014.0    0.431953   0.495592   0.0   0.0   0.00    0.0    1.00    1.0    1.0    1.0\n"
          ]
        }
      ]
    },
    {
      "cell_type": "code",
      "source": [
        "def grabColNames(dataframe, catTh=10, carTh=20):\n",
        "    # catCols, catButCar\n",
        "    catCols = [col for col in dataframe.columns if dataframe[col].dtypes == \"O\"]\n",
        "    numButCat = [col for col in dataframe.columns if dataframe[col].nunique() < catTh and\n",
        "                 dataframe[col].dtypes != \"O\"]\n",
        "    catButCar = [col for col in dataframe.columns if dataframe[col].nunique() > carTh and\n",
        "                 dataframe[col].dtypes == \"O\"]\n",
        "    catCols = catCols + numButCat\n",
        "    catCols = [col for col in catCols if col not in catButCar]\n",
        "\n",
        "    # numCols\n",
        "    numCols = [col for col in dataframe.columns if dataframe[col].dtypes != \"O\"]\n",
        "    numCols = [col for col in numCols if col not in numButCat]\n",
        "\n",
        "    print(f\"Observations: {dataframe.shape[0]}\")\n",
        "    print(f\"Variables: {dataframe.shape[1]}\")\n",
        "    print(f'catCols: {len(catCols)}')\n",
        "    print(f'numCols: {len(numCols)}')\n",
        "    print(f'catButCar: {len(catButCar)}')\n",
        "    print(f'numButCat: {len(numButCat)}')\n",
        "    return catCols, numCols, catButCar\n",
        "\n",
        "\n",
        "catCols, numCols, catButCar = grabColNames(df)"
      ],
      "metadata": {
        "id": "GNKDvcG29Wpb",
        "colab": {
          "base_uri": "https://localhost:8080/"
        },
        "outputId": "95534838-faff-4b47-9438-827a1c40e42b"
      },
      "execution_count": null,
      "outputs": [
        {
          "output_type": "stream",
          "name": "stdout",
          "text": [
            "Observations: 1014\n",
            "Variables: 7\n",
            "catCols: 2\n",
            "numCols: 5\n",
            "catButCar: 0\n",
            "numButCat: 2\n"
          ]
        }
      ]
    },
    {
      "cell_type": "code",
      "source": [
        "# Numerik ve kategorik değişkenlerin analizi\n",
        "\n",
        "def catSummary(dataframe, colName, plot=False):\n",
        "    print(pd.DataFrame({colName: dataframe[colName].value_counts(),\n",
        "                        \"Ratio\": 100 * dataframe[colName].value_counts() / len(dataframe)}))\n",
        "    print(\"##########################################\")\n",
        "\n",
        "    if plot:\n",
        "        sns.countplot(x=dataframe[colName], data=dataframe)\n",
        "        plt.show(block=True)\n",
        "\n",
        "\n",
        "catSummary(df, \"RISKLEVEL\")"
      ],
      "metadata": {
        "id": "Z3WGvdlm9cwY",
        "colab": {
          "base_uri": "https://localhost:8080/"
        },
        "outputId": "91c856ec-7629-414a-d9ee-7cb5d6bd9b9d"
      },
      "execution_count": null,
      "outputs": [
        {
          "output_type": "stream",
          "name": "stdout",
          "text": [
            "   RISKLEVEL      Ratio\n",
            "0        576  56.804734\n",
            "1        438  43.195266\n",
            "##########################################\n"
          ]
        }
      ]
    },
    {
      "cell_type": "code",
      "source": [
        "def numSummary(dataframe, numericalCol, plot=False):\n",
        "    quantiles = [0.05, 0.1, 0.2, 0.3, 0.4, 0.5, 0.6, 0.7, 0.8, 0.9, 0.95, 0.99, 1]\n",
        "    print(dataframe[numericalCol].describe(quantiles).T)\n",
        "\n",
        "    if plot:\n",
        "        dataframe[numericalCol].hist()\n",
        "        plt.xlabel(numericalCol)\n",
        "        plt.title(numericalCol)\n",
        "        plt.show(block=True)\n",
        "\n",
        "\n",
        "for col in numCols:\n",
        "    print(f\"{col}:\")\n",
        "    numSummary(df, col, True)\n"
      ],
      "metadata": {
        "id": "oxz1YzQr9ic8",
        "colab": {
          "base_uri": "https://localhost:8080/",
          "height": 1000
        },
        "outputId": "49ee33ae-5450-45fe-8a22-53fc8232307b"
      },
      "execution_count": null,
      "outputs": [
        {
          "output_type": "stream",
          "name": "stdout",
          "text": [
            "AGE:\n",
            "count    1014.000000\n",
            "mean       29.871795\n",
            "std        13.474386\n",
            "min        10.000000\n",
            "5%         13.650000\n",
            "10%        15.000000\n",
            "20%        18.000000\n",
            "30%        21.000000\n",
            "40%        23.000000\n",
            "50%        26.000000\n",
            "60%        30.000000\n",
            "70%        35.000000\n",
            "80%        42.000000\n",
            "90%        50.000000\n",
            "95%        55.000000\n",
            "99%        60.000000\n",
            "100%       70.000000\n",
            "max        70.000000\n",
            "Name: AGE, dtype: float64\n"
          ]
        },
        {
          "output_type": "display_data",
          "data": {
            "text/plain": [
              "<Figure size 1200x1200 with 1 Axes>"
            ],
            "image/png": "[encoded data removed]"
          },
          "metadata": {}
        },
        {
          "output_type": "stream",
          "name": "stdout",
          "text": [
            "SYSTOLICBP:\n",
            "count    1014.000000\n",
            "mean      113.198225\n",
            "std        18.403913\n",
            "min        70.000000\n",
            "5%         85.000000\n",
            "10%        90.000000\n",
            "20%        90.000000\n",
            "30%       100.000000\n",
            "40%       120.000000\n",
            "50%       120.000000\n",
            "60%       120.000000\n",
            "70%       120.000000\n",
            "80%       120.000000\n",
            "90%       140.000000\n",
            "95%       140.000000\n",
            "99%       140.000000\n",
            "100%      160.000000\n",
            "max       160.000000\n",
            "Name: SYSTOLICBP, dtype: float64\n"
          ]
        },
        {
          "output_type": "display_data",
          "data": {
            "text/plain": [
              "<Figure size 1200x1200 with 1 Axes>"
            ],
            "image/png": "[encoded data removed]"
          },
          "metadata": {}
        },
        {
          "output_type": "stream",
          "name": "stdout",
          "text": [
            "DIASTOLICBP:\n",
            "count    1014.000000\n",
            "mean       76.460552\n",
            "std        13.885796\n",
            "min        49.000000\n",
            "5%         60.000000\n",
            "10%        60.000000\n",
            "20%        60.000000\n",
            "30%        65.000000\n",
            "40%        70.000000\n",
            "50%        80.000000\n",
            "60%        80.000000\n",
            "70%        85.000000\n",
            "80%        90.000000\n",
            "90%        95.000000\n",
            "95%       100.000000\n",
            "99%       100.000000\n",
            "100%      100.000000\n",
            "max       100.000000\n",
            "Name: DIASTOLICBP, dtype: float64\n"
          ]
        },
        {
          "output_type": "display_data",
          "data": {
            "text/plain": [
              "<Figure size 1200x1200 with 1 Axes>"
            ],
            "image/png": "[encoded data removed]"
          },
          "metadata": {}
        },
        {
          "output_type": "stream",
          "name": "stdout",
          "text": [
            "BS:\n",
            "count    1014.000000\n",
            "mean        8.725986\n",
            "std         3.293532\n",
            "min         6.000000\n",
            "5%          6.100000\n",
            "10%         6.700000\n",
            "20%         6.800000\n",
            "30%         6.900000\n",
            "40%         7.010000\n",
            "50%         7.500000\n",
            "60%         7.500000\n",
            "70%         7.900000\n",
            "80%        11.000000\n",
            "90%        15.000000\n",
            "95%        17.350000\n",
            "99%        19.000000\n",
            "100%       19.000000\n",
            "max        19.000000\n",
            "Name: BS, dtype: float64\n"
          ]
        },
        {
          "output_type": "display_data",
          "data": {
            "text/plain": [
              "<Figure size 1200x1200 with 1 Axes>"
            ],
            "image/png": "[encoded data removed]"
          },
          "metadata": {}
        },
        {
          "output_type": "stream",
          "name": "stdout",
          "text": [
            "HEARTRATE:\n",
            "count    1014.000000\n",
            "mean       74.301775\n",
            "std         8.088702\n",
            "min         7.000000\n",
            "5%         60.000000\n",
            "10%        66.000000\n",
            "20%        70.000000\n",
            "30%        70.000000\n",
            "40%        70.000000\n",
            "50%        76.000000\n",
            "60%        77.000000\n",
            "70%        78.000000\n",
            "80%        80.000000\n",
            "90%        86.000000\n",
            "95%        88.000000\n",
            "99%        90.000000\n",
            "100%       90.000000\n",
            "max        90.000000\n",
            "Name: HEARTRATE, dtype: float64\n"
          ]
        },
        {
          "output_type": "display_data",
          "data": {
            "text/plain": [
              "<Figure size 1200x1200 with 1 Axes>"
            ],
            "image/png": "[encoded data removed]"
          },
          "metadata": {}
        }
      ]
    },
    {
      "cell_type": "code",
      "source": [
        "# Hedef değişken analizi\n",
        "def targetSummaryWithNum(dataframe, target, numCol):\n",
        "    print(dataframe.groupby(target).agg({numCol: \"mean\"}), end=\"\\n\\n\\n\")\n",
        "\n",
        "\n",
        "for col in numCols:\n",
        "    targetSummaryWithNum(df, 'RISKLEVEL', col)\n",
        "\n",
        "df.corr()"
      ],
      "metadata": {
        "id": "9xHANxjR9o1s",
        "colab": {
          "base_uri": "https://localhost:8080/",
          "height": 817
        },
        "outputId": "9f1f3815-6392-48e7-dff4-97fe2dccd490"
      },
      "execution_count": null,
      "outputs": [
        {
          "output_type": "stream",
          "name": "stdout",
          "text": [
            "                 AGE\n",
            "RISKLEVEL           \n",
            "0          27.520833\n",
            "1          32.963470\n",
            "\n",
            "\n",
            "           SYSTOLICBP\n",
            "RISKLEVEL            \n",
            "0          107.833333\n",
            "1          120.253425\n",
            "\n",
            "\n",
            "           DIASTOLICBP\n",
            "RISKLEVEL             \n",
            "0            73.005208\n",
            "1            81.004566\n",
            "\n",
            "\n",
            "                  BS\n",
            "RISKLEVEL           \n",
            "0           7.414149\n",
            "1          10.451142\n",
            "\n",
            "\n",
            "           HEARTRATE\n",
            "RISKLEVEL           \n",
            "0          73.248264\n",
            "1          75.687215\n",
            "\n",
            "\n"
          ]
        },
        {
          "output_type": "execute_result",
          "data": {
            "text/plain": [
              "                  AGE  SYSTOLICBP  DIASTOLICBP        BS  BODYTEMP  HEARTRATE  RISKLEVEL\n",
              "AGE          1.000000    0.416045     0.398026  0.473284 -0.255323   0.079798   0.200182\n",
              "SYSTOLICBP   0.416045    1.000000     0.787006  0.425172 -0.286616  -0.023108   0.334456\n",
              "DIASTOLICBP  0.398026    0.787006     1.000000  0.423824 -0.257538  -0.046151   0.285502\n",
              "BS           0.473284    0.425172     0.423824  1.000000 -0.103493   0.142867   0.456990\n",
              "BODYTEMP    -0.255323   -0.286616    -0.257538 -0.103493  1.000000   0.098771   0.107906\n",
              "HEARTRATE    0.079798   -0.023108    -0.046151  0.142867  0.098771   1.000000   0.149434\n",
              "RISKLEVEL    0.200182    0.334456     0.285502  0.456990  0.107906   0.149434   1.000000"
            ],
            "text/html": [
              "\n",
              "  <div id=\"df-2ac55bf9-70f3-4f76-913e-8d0f8d643862\" class=\"colab-df-container\">\n",
              "    <div>\n",
              "<style scoped>\n",
              "    .dataframe tbody tr th:only-of-type {\n",
              "        vertical-align: middle;\n",
              "    }\n",
              "\n",
              "    .dataframe tbody tr th {\n",
              "        vertical-align: top;\n",
              "    }\n",
              "\n",
              "    .dataframe thead th {\n",
              "        text-align: right;\n",
              "    }\n",
              "</style>\n",
              "<table border=\"1\" class=\"dataframe\">\n",
              "  <thead>\n",
              "    <tr style=\"text-align: right;\">\n",
              "      <th></th>\n",
              "      <th>AGE</th>\n",
              "      <th>SYSTOLICBP</th>\n",
              "      <th>DIASTOLICBP</th>\n",
              "      <th>BS</th>\n",
              "      <th>BODYTEMP</th>\n",
              "      <th>HEARTRATE</th>\n",
              "      <th>RISKLEVEL</th>\n",
              "    </tr>\n",
              "  </thead>\n",
              "  <tbody>\n",
              "    <tr>\n",
              "      <th>AGE</th>\n",
              "      <td>1.000000</td>\n",
              "      <td>0.416045</td>\n",
              "      <td>0.398026</td>\n",
              "      <td>0.473284</td>\n",
              "      <td>-0.255323</td>\n",
              "      <td>0.079798</td>\n",
              "      <td>0.200182</td>\n",
              "    </tr>\n",
              "    <tr>\n",
              "      <th>SYSTOLICBP</th>\n",
              "      <td>0.416045</td>\n",
              "      <td>1.000000</td>\n",
              "      <td>0.787006</td>\n",
              "      <td>0.425172</td>\n",
              "      <td>-0.286616</td>\n",
              "      <td>-0.023108</td>\n",
              "      <td>0.334456</td>\n",
              "    </tr>\n",
              "    <tr>\n",
              "      <th>DIASTOLICBP</th>\n",
              "      <td>0.398026</td>\n",
              "      <td>0.787006</td>\n",
              "      <td>1.000000</td>\n",
              "      <td>0.423824</td>\n",
              "      <td>-0.257538</td>\n",
              "      <td>-0.046151</td>\n",
              "      <td>0.285502</td>\n",
              "    </tr>\n",
              "    <tr>\n",
              "      <th>BS</th>\n",
              "      <td>0.473284</td>\n",
              "      <td>0.425172</td>\n",
              "      <td>0.423824</td>\n",
              "      <td>1.000000</td>\n",
              "      <td>-0.103493</td>\n",
              "      <td>0.142867</td>\n",
              "      <td>0.456990</td>\n",
              "    </tr>\n",
              "    <tr>\n",
              "      <th>BODYTEMP</th>\n",
              "      <td>-0.255323</td>\n",
              "      <td>-0.286616</td>\n",
              "      <td>-0.257538</td>\n",
              "      <td>-0.103493</td>\n",
              "      <td>1.000000</td>\n",
              "      <td>0.098771</td>\n",
              "      <td>0.107906</td>\n",
              "    </tr>\n",
              "    <tr>\n",
              "      <th>HEARTRATE</th>\n",
              "      <td>0.079798</td>\n",
              "      <td>-0.023108</td>\n",
              "      <td>-0.046151</td>\n",
              "      <td>0.142867</td>\n",
              "      <td>0.098771</td>\n",
              "      <td>1.000000</td>\n",
              "      <td>0.149434</td>\n",
              "    </tr>\n",
              "    <tr>\n",
              "      <th>RISKLEVEL</th>\n",
              "      <td>0.200182</td>\n",
              "      <td>0.334456</td>\n",
              "      <td>0.285502</td>\n",
              "      <td>0.456990</td>\n",
              "      <td>0.107906</td>\n",
              "      <td>0.149434</td>\n",
              "      <td>1.000000</td>\n",
              "    </tr>\n",
              "  </tbody>\n",
              "</table>\n",
              "</div>\n",
              "    <div class=\"colab-df-buttons\">\n",
              "\n",
              "  <div class=\"colab-df-container\">\n",
              "    <button class=\"colab-df-convert\" onclick=\"convertToInteractive('df-2ac55bf9-70f3-4f76-913e-8d0f8d643862')\"\n",
              "            title=\"Convert this dataframe to an interactive table.\"\n",
              "            style=\"display:none;\">\n",
              "\n",
              "  <svg xmlns=\"http://www.w3.org/2000/svg\" height=\"24px\" viewBox=\"0 -960 960 960\">\n",
              "    <path d=\"M120-120v-720h720v720H120Zm60-500h600v-160H180v160Zm220 220h160v-160H400v160Zm0 220h160v-160H400v160ZM180-400h160v-160H180v160Zm440 0h160v-160H620v160ZM180-180h160v-160H180v160Zm440 0h160v-160H620v160Z\"/>\n",
              "  </svg>\n",
              "    </button>\n",
              "\n",
              "  <style>\n",
              "    .colab-df-container {\n",
              "      display:flex;\n",
              "      gap: 12px;\n",
              "    }\n",
              "\n",
              "    .colab-df-convert {\n",
              "      background-color: #E8F0FE;\n",
              "      border: none;\n",
              "      border-radius: 50%;\n",
              "      cursor: pointer;\n",
              "      display: none;\n",
              "      fill: #1967D2;\n",
              "      height: 32px;\n",
              "      padding: 0 0 0 0;\n",
              "      width: 32px;\n",
              "    }\n",
              "\n",
              "    .colab-df-convert:hover {\n",
              "      background-color: #E2EBFA;\n",
              "      box-shadow: 0px 1px 2px rgba(60, 64, 67, 0.3), 0px 1px 3px 1px rgba(60, 64, 67, 0.15);\n",
              "      fill: #174EA6;\n",
              "    }\n",
              "\n",
              "    .colab-df-buttons div {\n",
              "      margin-bottom: 4px;\n",
              "    }\n",
              "\n",
              "    [theme=dark] .colab-df-convert {\n",
              "      background-color: #3B4455;\n",
              "      fill: #D2E3FC;\n",
              "    }\n",
              "\n",
              "    [theme=dark] .colab-df-convert:hover {\n",
              "      background-color: #434B5C;\n",
              "      box-shadow: 0px 1px 3px 1px rgba(0, 0, 0, 0.15);\n",
              "      filter: drop-shadow(0px 1px 2px rgba(0, 0, 0, 0.3));\n",
              "      fill: #FFFFFF;\n",
              "    }\n",
              "  </style>\n",
              "\n",
              "    <script>\n",
              "      const buttonEl =\n",
              "        document.querySelector('#df-2ac55bf9-70f3-4f76-913e-8d0f8d643862 button.colab-df-convert');\n",
              "      buttonEl.style.display =\n",
              "        google.colab.kernel.accessAllowed ? 'block' : 'none';\n",
              "\n",
              "      async function convertToInteractive(key) {\n",
              "        const element = document.querySelector('#df-2ac55bf9-70f3-4f76-913e-8d0f8d643862');\n",
              "        const dataTable =\n",
              "          await google.colab.kernel.invokeFunction('convertToInteractive',\n",
              "                                                    [key], {});\n",
              "        if (!dataTable) return;\n",
              "\n",
              "        const docLinkHtml = 'Like what you see? Visit the ' +\n",
              "          '<a target=\"_blank\" href=https://colab.research.google.com/notebooks/data_table.ipynb>data table notebook</a>'\n",
              "          + ' to learn more about interactive tables.';\n",
              "        element.innerHTML = '';\n",
              "        dataTable['output_type'] = 'display_data';\n",
              "        await google.colab.output.renderOutput(dataTable, element);\n",
              "        const docLink = document.createElement('div');\n",
              "        docLink.innerHTML = docLinkHtml;\n",
              "        element.appendChild(docLink);\n",
              "      }\n",
              "    </script>\n",
              "  </div>\n",
              "\n",
              "\n",
              "<div id=\"df-95609c53-ee68-427a-ad03-a5c2b6c5b73d\">\n",
              "  <button class=\"colab-df-quickchart\" onclick=\"quickchart('df-95609c53-ee68-427a-ad03-a5c2b6c5b73d')\"\n",
              "            title=\"Suggest charts\"\n",
              "            style=\"display:none;\">\n",
              "\n",
              "<svg xmlns=\"http://www.w3.org/2000/svg\" height=\"24px\"viewBox=\"0 0 24 24\"\n",
              "     width=\"24px\">\n",
              "    <g>\n",
              "        <path d=\"M19 3H5c-1.1 0-2 .9-2 2v14c0 1.1.9 2 2 2h14c1.1 0 2-.9 2-2V5c0-1.1-.9-2-2-2zM9 17H7v-7h2v7zm4 0h-2V7h2v10zm4 0h-2v-4h2v4z\"/>\n",
              "    </g>\n",
              "</svg>\n",
              "  </button>\n",
              "\n",
              "<style>\n",
              "  .colab-df-quickchart {\n",
              "      --bg-color: #E8F0FE;\n",
              "      --fill-color: #1967D2;\n",
              "      --hover-bg-color: #E2EBFA;\n",
              "      --hover-fill-color: #174EA6;\n",
              "      --disabled-fill-color: #AAA;\n",
              "      --disabled-bg-color: #DDD;\n",
              "  }\n",
              "\n",
              "  [theme=dark] .colab-df-quickchart {\n",
              "      --bg-color: #3B4455;\n",
              "      --fill-color: #D2E3FC;\n",
              "      --hover-bg-color: #434B5C;\n",
              "      --hover-fill-color: #FFFFFF;\n",
              "      --disabled-bg-color: #3B4455;\n",
              "      --disabled-fill-color: #666;\n",
              "  }\n",
              "\n",
              "  .colab-df-quickchart {\n",
              "    background-color: var(--bg-color);\n",
              "    border: none;\n",
              "    border-radius: 50%;\n",
              "    cursor: pointer;\n",
              "    display: none;\n",
              "    fill: var(--fill-color);\n",
              "    height: 32px;\n",
              "    padding: 0;\n",
              "    width: 32px;\n",
              "  }\n",
              "\n",
              "  .colab-df-quickchart:hover {\n",
              "    background-color: var(--hover-bg-color);\n",
              "    box-shadow: 0 1px 2px rgba(60, 64, 67, 0.3), 0 1px 3px 1px rgba(60, 64, 67, 0.15);\n",
              "    fill: var(--button-hover-fill-color);\n",
              "  }\n",
              "\n",
              "  .colab-df-quickchart-complete:disabled,\n",
              "  .colab-df-quickchart-complete:disabled:hover {\n",
              "    background-color: var(--disabled-bg-color);\n",
              "    fill: var(--disabled-fill-color);\n",
              "    box-shadow: none;\n",
              "  }\n",
              "\n",
              "  .colab-df-spinner {\n",
              "    border: 2px solid var(--fill-color);\n",
              "    border-color: transparent;\n",
              "    border-bottom-color: var(--fill-color);\n",
              "    animation:\n",
              "      spin 1s steps(1) infinite;\n",
              "  }\n",
              "\n",
              "  @keyframes spin {\n",
              "    0% {\n",
              "      border-color: transparent;\n",
              "      border-bottom-color: var(--fill-color);\n",
              "      border-left-color: var(--fill-color);\n",
              "    }\n",
              "    20% {\n",
              "      border-color: transparent;\n",
              "      border-left-color: var(--fill-color);\n",
              "      border-top-color: var(--fill-color);\n",
              "    }\n",
              "    30% {\n",
              "      border-color: transparent;\n",
              "      border-left-color: var(--fill-color);\n",
              "      border-top-color: var(--fill-color);\n",
              "      border-right-color: var(--fill-color);\n",
              "    }\n",
              "    40% {\n",
              "      border-color: transparent;\n",
              "      border-right-color: var(--fill-color);\n",
              "      border-top-color: var(--fill-color);\n",
              "    }\n",
              "    60% {\n",
              "      border-color: transparent;\n",
              "      border-right-color: var(--fill-color);\n",
              "    }\n",
              "    80% {\n",
              "      border-color: transparent;\n",
              "      border-right-color: var(--fill-color);\n",
              "      border-bottom-color: var(--fill-color);\n",
              "    }\n",
              "    90% {\n",
              "      border-color: transparent;\n",
              "      border-bottom-color: var(--fill-color);\n",
              "    }\n",
              "  }\n",
              "</style>\n",
              "\n",
              "  <script>\n",
              "    async function quickchart(key) {\n",
              "      const quickchartButtonEl =\n",
              "        document.querySelector('#' + key + ' button');\n",
              "      quickchartButtonEl.disabled = true;  // To prevent multiple clicks.\n",
              "      quickchartButtonEl.classList.add('colab-df-spinner');\n",
              "      try {\n",
              "        const charts = await google.colab.kernel.invokeFunction(\n",
              "            'suggestCharts', [key], {});\n",
              "      } catch (error) {\n",
              "        console.error('Error during call to suggestCharts:', error);\n",
              "      }\n",
              "      quickchartButtonEl.classList.remove('colab-df-spinner');\n",
              "      quickchartButtonEl.classList.add('colab-df-quickchart-complete');\n",
              "    }\n",
              "    (() => {\n",
              "      let quickchartButtonEl =\n",
              "        document.querySelector('#df-95609c53-ee68-427a-ad03-a5c2b6c5b73d button');\n",
              "      quickchartButtonEl.style.display =\n",
              "        google.colab.kernel.accessAllowed ? 'block' : 'none';\n",
              "    })();\n",
              "  </script>\n",
              "</div>\n",
              "\n",
              "    </div>\n",
              "  </div>\n"
            ]
          },
          "metadata": {},
          "execution_count": 436
        }
      ]
    },
    {
      "cell_type": "code",
      "source": [
        "y = df[\"RISKLEVEL\"]\n",
        "X = df.drop(\"RISKLEVEL\", axis=1)\n",
        "X_train, X_test, y_train, y_test = train_test_split(X, y, test_size=0.30, random_state=17)\n",
        "\n",
        "rf_model = RandomForestClassifier(random_state=46).fit(X_train, y_train)\n",
        "y_pred = rf_model.predict(X_test)\n",
        "\n",
        "# bulduğumuz oranları grafiğe dökdük\n",
        "def plot_importance(model, features, num=len(X), save=True):\n",
        "    feature_imp = pd.DataFrame({'Value': model.feature_importances_, 'Feature': features.columns})\n",
        "    plt.figure(figsize=(10, 10))\n",
        "    sns.set(font_scale=1)\n",
        "    sns.barplot(x=\"Value\", y=\"Feature\", data=feature_imp.sort_values(by=\"Value\",\n",
        "                                                                     ascending=False)[0:num])\n",
        "    plt.title('Features')\n",
        "    plt.tight_layout()\n",
        "    plt.show()\n",
        "    if save:\n",
        "        plt.savefig('plot_importance.png')\n",
        "\n",
        "\n",
        "plot_importance(rf_model, X)"
      ],
      "metadata": {
        "id": "2z9TgJGA9wiY",
        "colab": {
          "base_uri": "https://localhost:8080/",
          "height": 1000
        },
        "outputId": "42f7db95-f9e8-40a0-85b8-1b01ee0e3c10"
      },
      "execution_count": null,
      "outputs": [
        {
          "output_type": "display_data",
          "data": {
            "text/plain": [
              "<Figure size 1000x1000 with 1 Axes>"
            ],
            "image/png": "[encoded data removed]"
          },
          "metadata": {}
        },
        {
          "output_type": "display_data",
          "data": {
            "text/plain": [
              "<Figure size 1200x1200 with 0 Axes>"
            ]
          },
          "metadata": {}
        }
      ]
    },
    {
      "cell_type": "code",
      "source": [
        "# Aykırı gözlem analizi\n",
        "\n",
        "def outlierThresholds(dataframe, colName, q1=0.25, q3=0.75):\n",
        "    quartile1 = dataframe[colName].quantile(q1)\n",
        "    quartile3 = dataframe[colName].quantile(q3)\n",
        "    interquantileRange = quartile3 - quartile1\n",
        "    upLimit = quartile3 + 1.5 * interquantileRange\n",
        "    lowLimit = quartile1 - 1.5 * interquantileRange\n",
        "    return lowLimit, upLimit\n",
        "\n",
        "\n",
        "def checkOutlier(dataframe, colName):\n",
        "    lowLimit, upLimit = outlierThresholds(dataframe, colName)\n",
        "    if dataframe[(dataframe[colName] > upLimit) | (dataframe[colName] < lowLimit)].any(axis=None):\n",
        "        return True\n",
        "    else:\n",
        "        return False\n",
        "\n",
        "\n",
        "for col in numCols:\n",
        "    print(col, \"-->\", checkOutlier(df, col))"
      ],
      "metadata": {
        "id": "V_yERPEh92OX",
        "colab": {
          "base_uri": "https://localhost:8080/"
        },
        "outputId": "a8285688-8864-4df3-c3cd-ccad0abe762a"
      },
      "execution_count": null,
      "outputs": [
        {
          "output_type": "stream",
          "name": "stdout",
          "text": [
            "AGE --> True\n",
            "SYSTOLICBP --> True\n",
            "DIASTOLICBP --> False\n",
            "BS --> True\n",
            "HEARTRATE --> True\n"
          ]
        }
      ]
    },
    {
      "cell_type": "markdown",
      "source": [
        "\n",
        "*   AGE --> True  dikkate alınmadı\n",
        "*   SYSTOLICBP --> True\n",
        "*   DIASTOLICBP --> False\n",
        "*   BS --> True\n",
        "*   HEARTRATE --> True  dikkate alınmadı"
      ],
      "metadata": {
        "id": "iITr6gX99794"
      }
    },
    {
      "cell_type": "code",
      "source": [
        "def grabOutliers(dataframe, colName, index=False):\n",
        "    low, up = outlierThresholds(dataframe, colName)\n",
        "    outliers = dataframe[((dataframe[colName] < low) | (dataframe[colName] > up))]\n",
        "\n",
        "    if outliers.shape[0] > 10:\n",
        "        print(f\"Aykırı Değerler for {colName}:\\n{outliers.head()}\")\n",
        "    else:\n",
        "        print(f\"Aykırı Değerler for {colName}:\\n{outliers}\")\n",
        "\n",
        "    if index:\n",
        "        outlier_index = outliers.index\n",
        "        return outlier_index\n",
        "\n",
        "\n",
        "selected_cols = ['SYSTOLICBP', 'BS']\n",
        "for col in selected_cols:\n",
        "    print(col, grabOutliers(df, col, True))"
      ],
      "metadata": {
        "id": "P65Wp84e95h5",
        "colab": {
          "base_uri": "https://localhost:8080/"
        },
        "outputId": "39597d43-6cd0-4870-ee41-a24eba531853"
      },
      "execution_count": null,
      "outputs": [
        {
          "output_type": "stream",
          "name": "stdout",
          "text": [
            "Aykırı Değerler for SYSTOLICBP:\n",
            "     AGE  SYSTOLICBP  DIASTOLICBP    BS  BODYTEMP  HEARTRATE  RISKLEVEL\n",
            "123   40         160          100  19.0      98.0         77          1\n",
            "130   40         160          100  19.0      98.0         77          1\n",
            "166   40         160          100  19.0      98.0         77          1\n",
            "262   40         160          100  19.0      98.0         77          1\n",
            "362   40         160          100  19.0      98.0         77          1\n",
            "538   40         160          100  19.0      98.0         77          1\n",
            "583   40         160          100  19.0      98.0         77          1\n",
            "689   40         160          100  19.0      98.0         77          1\n",
            "961   40         160          100  19.0      98.0         77          1\n",
            "994   40         160          100  19.0      98.0         77          1\n",
            "SYSTOLICBP Int64Index([123, 130, 166, 262, 362, 538, 583, 689, 961, 994], dtype='int64')\n",
            "Aykırı Değerler for BS:\n",
            "    AGE  SYSTOLICBP  DIASTOLICBP    BS  BODYTEMP  HEARTRATE  RISKLEVEL\n",
            "0    25         130           80  15.0      98.0         86          1\n",
            "1    35         140           90  13.0      98.0         70          1\n",
            "7    35          85           60  11.0     102.0         86          1\n",
            "9    42         130           80  18.0      98.0         70          1\n",
            "14   48         120           80  11.0      98.0         88          1\n",
            "BS Int64Index([   0,    1,    7,    9,   14,   16,   20,   73,   74,   77,\n",
            "            ...\n",
            "             999, 1000, 1001, 1002, 1003, 1008, 1009, 1010, 1011, 1012], dtype='int64', length=210)\n"
          ]
        }
      ]
    },
    {
      "cell_type": "markdown",
      "source": [
        "BS ve SYSTOLICBP aykırı değer olarak işaretlenen değerler incelendiğinde yanlış girdiğiye sahip olmadığı anlaşılıp,\n",
        "aykırı olarak tanımlanmama kararı verilmiştir."
      ],
      "metadata": {
        "id": "zmMSBaKw-Z8o"
      }
    },
    {
      "cell_type": "code",
      "source": [
        "# Eksik gözlem analizi\n",
        "def missingValuesTable(dataframe, naName=False):\n",
        "    naColums = [col for col in dataframe.columns if dataframe[col].isnull().sum() > 0]\n",
        "    nMiss = dataframe[naColums].isnull().sum().sort_values(ascending=False)\n",
        "    ratio = (dataframe[naColums].isnull().sum() / dataframe.shape[0] * 100).sort_values(ascending=False)\n",
        "    missingDf = pd.concat([nMiss, np.round(ratio, 2)], axis=1, keys=['n_miss', 'ratio'])\n",
        "    print(missingDf, end='\\n')\n",
        "    if naName:\n",
        "        return naColums\n",
        "\n",
        "\n",
        "missingValuesTable(df)"
      ],
      "metadata": {
        "id": "OG-o3yFh-cZq",
        "colab": {
          "base_uri": "https://localhost:8080/"
        },
        "outputId": "b2a83e19-1bff-41e8-b4cc-f79e5545c71d"
      },
      "execution_count": null,
      "outputs": [
        {
          "output_type": "stream",
          "name": "stdout",
          "text": [
            "Empty DataFrame\n",
            "Columns: [n_miss, ratio]\n",
            "Index: []\n"
          ]
        }
      ]
    },
    {
      "cell_type": "code",
      "source": [
        "#Korelasyon analizi\n",
        "corr = df[numCols].corr()\n",
        "corr\n",
        "\n",
        "sns.set(rc={\"figure.figsize\": (12, 12)})\n",
        "sns.heatmap(corr, cmap=\"RdBu\", annot=True)\n",
        "plt.show()"
      ],
      "metadata": {
        "id": "bdFlwUdL-f_A",
        "colab": {
          "base_uri": "https://localhost:8080/",
          "height": 995
        },
        "outputId": "9a612042-01ee-477b-ff39-dbb9d71d4ca1"
      },
      "execution_count": null,
      "outputs": [
        {
          "output_type": "display_data",
          "data": {
            "text/plain": [
              "<Figure size 1200x1200 with 2 Axes>"
            ],
            "image/png": "[encoded data removed]"
          },
          "metadata": {}
        }
      ]
    },
    {
      "cell_type": "markdown",
      "source": [
        "## Yeni değişkenlerin oluşturulması.\n",
        "\n"
      ],
      "metadata": {
        "id": "LWoSnwdN-kGI"
      }
    },
    {
      "cell_type": "code",
      "source": [
        "# düşük, normal ve yüksek sıcaklık\n",
        "df[\"BODY_TEMP_RANGES\"] = \"\"\n",
        "df.loc[(df[\"BODYTEMP\"] <= 98.6), \"BODY_TEMP_RANGES\"] = \"Low\"\n",
        "df.loc[((df[\"BODYTEMP\"] > 98.6) & (df[\"BODYTEMP\"] < 102)), \"BODY_TEMP_RANGES\"] = \"Mid\"\n",
        "df.loc[(df[\"BODYTEMP\"] >= 102), \"BODY_TEMP_RANGES\"] = \"High\""
      ],
      "metadata": {
        "id": "5sEgOEAk-oXv"
      },
      "execution_count": null,
      "outputs": []
    },
    {
      "cell_type": "code",
      "source": [
        "# kalp atış hızı risk düzeyi ( \"Elevated\" ,normal aralıkta olmayan ancak yüksek risk aralığında da bulunmayan ve \"Increased\" normal aralıkta olmayan ve yüksek risk aralığında bulunan)\n",
        "df[\"HEARTRATE_RANGES\"] = \"\"\n",
        "df.loc[((df[\"HEARTRATE\"] >= 75) & (df[\"HEARTRATE\"] <= 80)), \"HEARTRATE_RANGES\"] = \"Normal\"\n",
        "df.loc[((df[\"HEARTRATE\"] > 80) & (df[\"HEARTRATE\"] < 90)), \"HEARTRATE_RANGES\"] = \"Elevated\"\n",
        "df.loc[((df[\"HEARTRATE\"] >= 90) & (df[\"HEARTRATE\"] <= 140)), \"HEARTRATE_RANGES\"] = \"Increased\"\n",
        "df.loc[(df[\"HEARTRATE\"] > 140), \"HEARTRATE_RANGES\"] = \"High\"\n"
      ],
      "metadata": {
        "id": "xs0zTppJ-u-U"
      },
      "execution_count": null,
      "outputs": []
    },
    {
      "cell_type": "code",
      "source": [
        "# Kan Basıncı risk düzeyi\n",
        "df[\"BloodPressure_RANGES\"] = \"\"\n",
        "df.loc[((df[\"SYSTOLICBP\"] >= 120) & (df[\"SYSTOLICBP\"] <= 139) & (df[\"DIASTOLICBP\"] >= 80) & (df[\"DIASTOLICBP\"] <= 89)),\n",
        "       \"BloodPressure_RANGES\"] = \"Low\"\n",
        "df.loc[((df[\"SYSTOLICBP\"] >= 140) & (df[\"SYSTOLICBP\"] <= 159) & (df[\"DIASTOLICBP\"] >= 90) & (df[\"DIASTOLICBP\"] <= 99)),\n",
        "       \"BloodPressure_RANGES\"] = \"Mid\"\n",
        "df.loc[((df['SYSTOLICBP'] >= 160) | (df[\"DIASTOLICBP\"] >= 100)),\n",
        "       \"BloodPressure_RANGES\"] = \"High\""
      ],
      "metadata": {
        "id": "3tjwJSe7-vQX"
      },
      "execution_count": null,
      "outputs": []
    },
    {
      "cell_type": "code",
      "source": [
        "# Kan şekeri risk düzeyi belirleme\n",
        "df[\"BloodGlucose_RANGES\"] = \"\"\n",
        "df.loc[df[\"BS\"] < 7.8, \"BloodGlucose_RANGES\"] = \"Low\"\n",
        "df.loc[(df[\"BS\"] >= 7.8) & (df['BS'] < 11.1), \"BloodGlucose_RANGES\"] = \"Mid\"\n",
        "df.loc[df[\"BS\"] >= 11.1, \"BloodGlucose_RANGES\"] = \"High\""
      ],
      "metadata": {
        "id": "tz7oQ8Ho-vjl"
      },
      "execution_count": null,
      "outputs": []
    },
    {
      "cell_type": "code",
      "source": [
        "# Yaş risk düzeyi belirleme\n",
        "df[\"Age_RANGES\"] = \"\"\n",
        "df.loc[(df[\"AGE\"] >= 20) & (df[\"AGE\"] <= 29), 'Age_RANGES'] = \"Low\"\n",
        "df.loc[(df[\"AGE\"] > 29) & (df[\"AGE\"] <= 35), 'Age_RANGES'] = \"Mid\"\n",
        "df.loc[(df[\"AGE\"] > 35), 'Age_RANGES'] = \"High\"\n",
        "\n",
        "df.head()"
      ],
      "metadata": {
        "id": "UN7k3uXw-vwm",
        "colab": {
          "base_uri": "https://localhost:8080/",
          "height": 226
        },
        "outputId": "1acb8452-ce15-419e-c453-32299d9b32c6"
      },
      "execution_count": null,
      "outputs": [
        {
          "output_type": "execute_result",
          "data": {
            "text/plain": [
              "   AGE  SYSTOLICBP  DIASTOLICBP    BS  BODYTEMP  HEARTRATE  RISKLEVEL BODY_TEMP_RANGES HEARTRATE_RANGES BloodPressure_RANGES BloodGlucose_RANGES Age_RANGES\n",
              "0   25         130           80  15.0      98.0         86          1              Low         Elevated                  Low                High        Low\n",
              "1   35         140           90  13.0      98.0         70          1              Low                                   Mid                High        Mid\n",
              "2   29          90           70   8.0     100.0         80          1              Mid           Normal                                      Mid        Low\n",
              "3   30         140           85   7.0      98.0         70          1              Low                                                       Low        Mid\n",
              "4   35         120           60   6.1      98.0         76          0              Low           Normal                                      Low        Mid"
            ],
            "text/html": [
              "\n",
              "  <div id=\"df-178645af-abed-4915-96e6-0e986d4ebb09\" class=\"colab-df-container\">\n",
              "    <div>\n",
              "<style scoped>\n",
              "    .dataframe tbody tr th:only-of-type {\n",
              "        vertical-align: middle;\n",
              "    }\n",
              "\n",
              "    .dataframe tbody tr th {\n",
              "        vertical-align: top;\n",
              "    }\n",
              "\n",
              "    .dataframe thead th {\n",
              "        text-align: right;\n",
              "    }\n",
              "</style>\n",
              "<table border=\"1\" class=\"dataframe\">\n",
              "  <thead>\n",
              "    <tr style=\"text-align: right;\">\n",
              "      <th></th>\n",
              "      <th>AGE</th>\n",
              "      <th>SYSTOLICBP</th>\n",
              "      <th>DIASTOLICBP</th>\n",
              "      <th>BS</th>\n",
              "      <th>BODYTEMP</th>\n",
              "      <th>HEARTRATE</th>\n",
              "      <th>RISKLEVEL</th>\n",
              "      <th>BODY_TEMP_RANGES</th>\n",
              "      <th>HEARTRATE_RANGES</th>\n",
              "      <th>BloodPressure_RANGES</th>\n",
              "      <th>BloodGlucose_RANGES</th>\n",
              "      <th>Age_RANGES</th>\n",
              "    </tr>\n",
              "  </thead>\n",
              "  <tbody>\n",
              "    <tr>\n",
              "      <th>0</th>\n",
              "      <td>25</td>\n",
              "      <td>130</td>\n",
              "      <td>80</td>\n",
              "      <td>15.0</td>\n",
              "      <td>98.0</td>\n",
              "      <td>86</td>\n",
              "      <td>1</td>\n",
              "      <td>Low</td>\n",
              "      <td>Elevated</td>\n",
              "      <td>Low</td>\n",
              "      <td>High</td>\n",
              "      <td>Low</td>\n",
              "    </tr>\n",
              "    <tr>\n",
              "      <th>1</th>\n",
              "      <td>35</td>\n",
              "      <td>140</td>\n",
              "      <td>90</td>\n",
              "      <td>13.0</td>\n",
              "      <td>98.0</td>\n",
              "      <td>70</td>\n",
              "      <td>1</td>\n",
              "      <td>Low</td>\n",
              "      <td></td>\n",
              "      <td>Mid</td>\n",
              "      <td>High</td>\n",
              "      <td>Mid</td>\n",
              "    </tr>\n",
              "    <tr>\n",
              "      <th>2</th>\n",
              "      <td>29</td>\n",
              "      <td>90</td>\n",
              "      <td>70</td>\n",
              "      <td>8.0</td>\n",
              "      <td>100.0</td>\n",
              "      <td>80</td>\n",
              "      <td>1</td>\n",
              "      <td>Mid</td>\n",
              "      <td>Normal</td>\n",
              "      <td></td>\n",
              "      <td>Mid</td>\n",
              "      <td>Low</td>\n",
              "    </tr>\n",
              "    <tr>\n",
              "      <th>3</th>\n",
              "      <td>30</td>\n",
              "      <td>140</td>\n",
              "      <td>85</td>\n",
              "      <td>7.0</td>\n",
              "      <td>98.0</td>\n",
              "      <td>70</td>\n",
              "      <td>1</td>\n",
              "      <td>Low</td>\n",
              "      <td></td>\n",
              "      <td></td>\n",
              "      <td>Low</td>\n",
              "      <td>Mid</td>\n",
              "    </tr>\n",
              "    <tr>\n",
              "      <th>4</th>\n",
              "      <td>35</td>\n",
              "      <td>120</td>\n",
              "      <td>60</td>\n",
              "      <td>6.1</td>\n",
              "      <td>98.0</td>\n",
              "      <td>76</td>\n",
              "      <td>0</td>\n",
              "      <td>Low</td>\n",
              "      <td>Normal</td>\n",
              "      <td></td>\n",
              "      <td>Low</td>\n",
              "      <td>Mid</td>\n",
              "    </tr>\n",
              "  </tbody>\n",
              "</table>\n",
              "</div>\n",
              "    <div class=\"colab-df-buttons\">\n",
              "\n",
              "  <div class=\"colab-df-container\">\n",
              "    <button class=\"colab-df-convert\" onclick=\"convertToInteractive('df-178645af-abed-4915-96e6-0e986d4ebb09')\"\n",
              "            title=\"Convert this dataframe to an interactive table.\"\n",
              "            style=\"display:none;\">\n",
              "\n",
              "  <svg xmlns=\"http://www.w3.org/2000/svg\" height=\"24px\" viewBox=\"0 -960 960 960\">\n",
              "    <path d=\"M120-120v-720h720v720H120Zm60-500h600v-160H180v160Zm220 220h160v-160H400v160Zm0 220h160v-160H400v160ZM180-400h160v-160H180v160Zm440 0h160v-160H620v160ZM180-180h160v-160H180v160Zm440 0h160v-160H620v160Z\"/>\n",
              "  </svg>\n",
              "    </button>\n",
              "\n",
              "  <style>\n",
              "    .colab-df-container {\n",
              "      display:flex;\n",
              "      gap: 12px;\n",
              "    }\n",
              "\n",
              "    .colab-df-convert {\n",
              "      background-color: #E8F0FE;\n",
              "      border: none;\n",
              "      border-radius: 50%;\n",
              "      cursor: pointer;\n",
              "      display: none;\n",
              "      fill: #1967D2;\n",
              "      height: 32px;\n",
              "      padding: 0 0 0 0;\n",
              "      width: 32px;\n",
              "    }\n",
              "\n",
              "    .colab-df-convert:hover {\n",
              "      background-color: #E2EBFA;\n",
              "      box-shadow: 0px 1px 2px rgba(60, 64, 67, 0.3), 0px 1px 3px 1px rgba(60, 64, 67, 0.15);\n",
              "      fill: #174EA6;\n",
              "    }\n",
              "\n",
              "    .colab-df-buttons div {\n",
              "      margin-bottom: 4px;\n",
              "    }\n",
              "\n",
              "    [theme=dark] .colab-df-convert {\n",
              "      background-color: #3B4455;\n",
              "      fill: #D2E3FC;\n",
              "    }\n",
              "\n",
              "    [theme=dark] .colab-df-convert:hover {\n",
              "      background-color: #434B5C;\n",
              "      box-shadow: 0px 1px 3px 1px rgba(0, 0, 0, 0.15);\n",
              "      filter: drop-shadow(0px 1px 2px rgba(0, 0, 0, 0.3));\n",
              "      fill: #FFFFFF;\n",
              "    }\n",
              "  </style>\n",
              "\n",
              "    <script>\n",
              "      const buttonEl =\n",
              "        document.querySelector('#df-178645af-abed-4915-96e6-0e986d4ebb09 button.colab-df-convert');\n",
              "      buttonEl.style.display =\n",
              "        google.colab.kernel.accessAllowed ? 'block' : 'none';\n",
              "\n",
              "      async function convertToInteractive(key) {\n",
              "        const element = document.querySelector('#df-178645af-abed-4915-96e6-0e986d4ebb09');\n",
              "        const dataTable =\n",
              "          await google.colab.kernel.invokeFunction('convertToInteractive',\n",
              "                                                    [key], {});\n",
              "        if (!dataTable) return;\n",
              "\n",
              "        const docLinkHtml = 'Like what you see? Visit the ' +\n",
              "          '<a target=\"_blank\" href=https://colab.research.google.com/notebooks/data_table.ipynb>data table notebook</a>'\n",
              "          + ' to learn more about interactive tables.';\n",
              "        element.innerHTML = '';\n",
              "        dataTable['output_type'] = 'display_data';\n",
              "        await google.colab.output.renderOutput(dataTable, element);\n",
              "        const docLink = document.createElement('div');\n",
              "        docLink.innerHTML = docLinkHtml;\n",
              "        element.appendChild(docLink);\n",
              "      }\n",
              "    </script>\n",
              "  </div>\n",
              "\n",
              "\n",
              "<div id=\"df-27bbeafd-a5e1-428c-8604-d9d5cfbd1141\">\n",
              "  <button class=\"colab-df-quickchart\" onclick=\"quickchart('df-27bbeafd-a5e1-428c-8604-d9d5cfbd1141')\"\n",
              "            title=\"Suggest charts\"\n",
              "            style=\"display:none;\">\n",
              "\n",
              "<svg xmlns=\"http://www.w3.org/2000/svg\" height=\"24px\"viewBox=\"0 0 24 24\"\n",
              "     width=\"24px\">\n",
              "    <g>\n",
              "        <path d=\"M19 3H5c-1.1 0-2 .9-2 2v14c0 1.1.9 2 2 2h14c1.1 0 2-.9 2-2V5c0-1.1-.9-2-2-2zM9 17H7v-7h2v7zm4 0h-2V7h2v10zm4 0h-2v-4h2v4z\"/>\n",
              "    </g>\n",
              "</svg>\n",
              "  </button>\n",
              "\n",
              "<style>\n",
              "  .colab-df-quickchart {\n",
              "      --bg-color: #E8F0FE;\n",
              "      --fill-color: #1967D2;\n",
              "      --hover-bg-color: #E2EBFA;\n",
              "      --hover-fill-color: #174EA6;\n",
              "      --disabled-fill-color: #AAA;\n",
              "      --disabled-bg-color: #DDD;\n",
              "  }\n",
              "\n",
              "  [theme=dark] .colab-df-quickchart {\n",
              "      --bg-color: #3B4455;\n",
              "      --fill-color: #D2E3FC;\n",
              "      --hover-bg-color: #434B5C;\n",
              "      --hover-fill-color: #FFFFFF;\n",
              "      --disabled-bg-color: #3B4455;\n",
              "      --disabled-fill-color: #666;\n",
              "  }\n",
              "\n",
              "  .colab-df-quickchart {\n",
              "    background-color: var(--bg-color);\n",
              "    border: none;\n",
              "    border-radius: 50%;\n",
              "    cursor: pointer;\n",
              "    display: none;\n",
              "    fill: var(--fill-color);\n",
              "    height: 32px;\n",
              "    padding: 0;\n",
              "    width: 32px;\n",
              "  }\n",
              "\n",
              "  .colab-df-quickchart:hover {\n",
              "    background-color: var(--hover-bg-color);\n",
              "    box-shadow: 0 1px 2px rgba(60, 64, 67, 0.3), 0 1px 3px 1px rgba(60, 64, 67, 0.15);\n",
              "    fill: var(--button-hover-fill-color);\n",
              "  }\n",
              "\n",
              "  .colab-df-quickchart-complete:disabled,\n",
              "  .colab-df-quickchart-complete:disabled:hover {\n",
              "    background-color: var(--disabled-bg-color);\n",
              "    fill: var(--disabled-fill-color);\n",
              "    box-shadow: none;\n",
              "  }\n",
              "\n",
              "  .colab-df-spinner {\n",
              "    border: 2px solid var(--fill-color);\n",
              "    border-color: transparent;\n",
              "    border-bottom-color: var(--fill-color);\n",
              "    animation:\n",
              "      spin 1s steps(1) infinite;\n",
              "  }\n",
              "\n",
              "  @keyframes spin {\n",
              "    0% {\n",
              "      border-color: transparent;\n",
              "      border-bottom-color: var(--fill-color);\n",
              "      border-left-color: var(--fill-color);\n",
              "    }\n",
              "    20% {\n",
              "      border-color: transparent;\n",
              "      border-left-color: var(--fill-color);\n",
              "      border-top-color: var(--fill-color);\n",
              "    }\n",
              "    30% {\n",
              "      border-color: transparent;\n",
              "      border-left-color: var(--fill-color);\n",
              "      border-top-color: var(--fill-color);\n",
              "      border-right-color: var(--fill-color);\n",
              "    }\n",
              "    40% {\n",
              "      border-color: transparent;\n",
              "      border-right-color: var(--fill-color);\n",
              "      border-top-color: var(--fill-color);\n",
              "    }\n",
              "    60% {\n",
              "      border-color: transparent;\n",
              "      border-right-color: var(--fill-color);\n",
              "    }\n",
              "    80% {\n",
              "      border-color: transparent;\n",
              "      border-right-color: var(--fill-color);\n",
              "      border-bottom-color: var(--fill-color);\n",
              "    }\n",
              "    90% {\n",
              "      border-color: transparent;\n",
              "      border-bottom-color: var(--fill-color);\n",
              "    }\n",
              "  }\n",
              "</style>\n",
              "\n",
              "  <script>\n",
              "    async function quickchart(key) {\n",
              "      const quickchartButtonEl =\n",
              "        document.querySelector('#' + key + ' button');\n",
              "      quickchartButtonEl.disabled = true;  // To prevent multiple clicks.\n",
              "      quickchartButtonEl.classList.add('colab-df-spinner');\n",
              "      try {\n",
              "        const charts = await google.colab.kernel.invokeFunction(\n",
              "            'suggestCharts', [key], {});\n",
              "      } catch (error) {\n",
              "        console.error('Error during call to suggestCharts:', error);\n",
              "      }\n",
              "      quickchartButtonEl.classList.remove('colab-df-spinner');\n",
              "      quickchartButtonEl.classList.add('colab-df-quickchart-complete');\n",
              "    }\n",
              "    (() => {\n",
              "      let quickchartButtonEl =\n",
              "        document.querySelector('#df-27bbeafd-a5e1-428c-8604-d9d5cfbd1141 button');\n",
              "      quickchartButtonEl.style.display =\n",
              "        google.colab.kernel.accessAllowed ? 'block' : 'none';\n",
              "    })();\n",
              "  </script>\n",
              "</div>\n",
              "\n",
              "    </div>\n",
              "  </div>\n"
            ]
          },
          "metadata": {},
          "execution_count": 446
        }
      ]
    },
    {
      "cell_type": "markdown",
      "source": [
        "## Encoding\n",
        "\n",
        "\n"
      ],
      "metadata": {
        "id": "BbP9C0Ib-8oj"
      }
    },
    {
      "cell_type": "code",
      "source": [
        "def labelEncoder(dataframe, binaryCol):\n",
        "    labelencoder = LabelEncoder()\n",
        "    dataframe[binaryCol] = labelencoder.fit_transform(dataframe[binaryCol])\n",
        "    return dataframe\n",
        "\n",
        "\n",
        "binaryCols = [col for col in df.columns if df[col].dtype not in [int, float] and df[col].nunique() == 2]\n",
        "binaryCols\n",
        "\n",
        "for col in binaryCols:\n",
        "    labelEncoder(df, col)\n"
      ],
      "metadata": {
        "id": "LQsBaZIu-7vI"
      },
      "execution_count": null,
      "outputs": []
    },
    {
      "cell_type": "code",
      "source": [
        "def rareAnalyzer(dataframe, target, catCols):\n",
        "    for col in catCols:\n",
        "        print(col, \":\", len(dataframe[col].value_counts()))\n",
        "        print(pd.DataFrame(\n",
        "            {\"COUNT\": dataframe[col].value_counts(), \"RATIO\": dataframe[col].value_counts() / len(dataframe),\n",
        "             \"TARGET_MEAN\": dataframe.groupby(col)[target].mean()}), end=\"\\n\\n\\n\")\n",
        "\n",
        "\n",
        "rareAnalyzer(df, \"RISKLEVEL\", binaryCols)"
      ],
      "metadata": {
        "id": "P5P0_BHQ_HSC"
      },
      "execution_count": null,
      "outputs": []
    },
    {
      "cell_type": "code",
      "source": [
        "def rareEncoder(dataframe, rarePerc):\n",
        "    tempDf = dataframe.copy()\n",
        "    rare_columns = [col for col in tempDf.columns if\n",
        "                    tempDf[col].dtypes == \"O\" and (tempDf[col].value_counts() / len(tempDf) < rarePerc).any(axis=None)]\n",
        "    for var in rare_columns:\n",
        "        tmp = tempDf[var].value_counts() / len(tempDf)\n",
        "        rareLabels = tmp[tmp < rarePerc].index\n",
        "        tempDf[var] = np.where(tempDf[var].isin(rareLabels), \"Rare\", tempDf[var])\n",
        "    return tempDf\n",
        "\n",
        "\n",
        "df = rareEncoder(df, 0.01)"
      ],
      "metadata": {
        "id": "xJ_eN4j6_LVB"
      },
      "execution_count": null,
      "outputs": []
    },
    {
      "cell_type": "code",
      "source": [
        "def oneHotEncoder(dataframe, categoricalCols, drop_first=False):\n",
        "    dataframe = pd.get_dummies(dataframe, columns=categoricalCols, drop_first=drop_first)\n",
        "    return dataframe\n",
        "\n",
        "\n",
        "oheCols = [col for col in df.columns if (10 >= df[col].nunique() > 2) and (col != \"RISKLEVEL\")]\n",
        "df = oneHotEncoder(df, oheCols)"
      ],
      "metadata": {
        "id": "DyVh-FCc_Zbn"
      },
      "execution_count": null,
      "outputs": []
    },
    {
      "cell_type": "code",
      "source": [
        "# Numerik değişkenler için standartlaştırma\n",
        "scaler = StandardScaler()\n",
        "df[numCols] = scaler.fit_transform(df[numCols])\n",
        "df[numCols].head()\n",
        "\n",
        "df.columns\n",
        "df.head()"
      ],
      "metadata": {
        "id": "uxJh5cxP_0a5",
        "colab": {
          "base_uri": "https://localhost:8080/",
          "height": 226
        },
        "outputId": "c0c86962-2469-4bc1-c577-09be02aae554"
      },
      "execution_count": null,
      "outputs": [
        {
          "output_type": "execute_result",
          "data": {
            "text/plain": [
              "        AGE  SYSTOLICBP  DIASTOLICBP        BS  HEARTRATE  RISKLEVEL  BODYTEMP_98.0  BODYTEMP_98.4  BODYTEMP_98.6  BODYTEMP_99.0  BODYTEMP_100.0  BODYTEMP_101.0  BODYTEMP_102.0  BODYTEMP_103.0  BODY_TEMP_RANGES_High  BODY_TEMP_RANGES_Low  BODY_TEMP_RANGES_Mid  HEARTRATE_RANGES_  HEARTRATE_RANGES_Elevated  HEARTRATE_RANGES_Increased  HEARTRATE_RANGES_Normal  BloodPressure_RANGES_  BloodPressure_RANGES_High  BloodPressure_RANGES_Low  BloodPressure_RANGES_Mid  BloodGlucose_RANGES_High  \\\n",
              "0 -0.361738    0.913396     0.255023  1.905890   1.446956          1              1              0              0              0               0               0               0               0                      0                     1                     0                  0                          1                           0                        0                      0                          0                         1                         0                         1   \n",
              "1  0.380777    1.457027     0.975539  1.298340  -0.532088          1              1              0              0              0               0               0               0               0                      0                     1                     0                  1                          0                           0                        0                      0                          0                         0                         1                         1   \n",
              "2 -0.064732   -1.261127    -0.465493 -0.220537   0.704815          1              0              0              0              0               1               0               0               0                      0                     0                     1                  0                          0                           0                        1                      1                          0                         0                         0                         0   \n",
              "3  0.009519    1.457027     0.615281 -0.524312  -0.532088          1              1              0              0              0               0               0               0               0                      0                     1                     0                  1                          0                           0                        0                      1                          0                         0                         0                         0   \n",
              "4  0.380777    0.369765    -1.186009 -0.797710   0.210054          0              1              0              0              0               0               0               0               0                      0                     1                     0                  0                          0                           0                        1                      1                          0                         0                         0                         0   \n",
              "\n",
              "   BloodGlucose_RANGES_Low  BloodGlucose_RANGES_Mid  Age_RANGES_  Age_RANGES_High  Age_RANGES_Low  Age_RANGES_Mid  \n",
              "0                        0                        0            0                0               1               0  \n",
              "1                        0                        0            0                0               0               1  \n",
              "2                        0                        1            0                0               1               0  \n",
              "3                        1                        0            0                0               0               1  \n",
              "4                        1                        0            0                0               0               1  "
            ],
            "text/html": [
              "\n",
              "  <div id=\"df-2c63214a-7121-4999-9152-1d0479cb4c2d\" class=\"colab-df-container\">\n",
              "    <div>\n",
              "<style scoped>\n",
              "    .dataframe tbody tr th:only-of-type {\n",
              "        vertical-align: middle;\n",
              "    }\n",
              "\n",
              "    .dataframe tbody tr th {\n",
              "        vertical-align: top;\n",
              "    }\n",
              "\n",
              "    .dataframe thead th {\n",
              "        text-align: right;\n",
              "    }\n",
              "</style>\n",
              "<table border=\"1\" class=\"dataframe\">\n",
              "  <thead>\n",
              "    <tr style=\"text-align: right;\">\n",
              "      <th></th>\n",
              "      <th>AGE</th>\n",
              "      <th>SYSTOLICBP</th>\n",
              "      <th>DIASTOLICBP</th>\n",
              "      <th>BS</th>\n",
              "      <th>HEARTRATE</th>\n",
              "      <th>RISKLEVEL</th>\n",
              "      <th>BODYTEMP_98.0</th>\n",
              "      <th>BODYTEMP_98.4</th>\n",
              "      <th>BODYTEMP_98.6</th>\n",
              "      <th>BODYTEMP_99.0</th>\n",
              "      <th>BODYTEMP_100.0</th>\n",
              "      <th>BODYTEMP_101.0</th>\n",
              "      <th>BODYTEMP_102.0</th>\n",
              "      <th>BODYTEMP_103.0</th>\n",
              "      <th>BODY_TEMP_RANGES_High</th>\n",
              "      <th>BODY_TEMP_RANGES_Low</th>\n",
              "      <th>BODY_TEMP_RANGES_Mid</th>\n",
              "      <th>HEARTRATE_RANGES_</th>\n",
              "      <th>HEARTRATE_RANGES_Elevated</th>\n",
              "      <th>HEARTRATE_RANGES_Increased</th>\n",
              "      <th>HEARTRATE_RANGES_Normal</th>\n",
              "      <th>BloodPressure_RANGES_</th>\n",
              "      <th>BloodPressure_RANGES_High</th>\n",
              "      <th>BloodPressure_RANGES_Low</th>\n",
              "      <th>BloodPressure_RANGES_Mid</th>\n",
              "      <th>BloodGlucose_RANGES_High</th>\n",
              "      <th>BloodGlucose_RANGES_Low</th>\n",
              "      <th>BloodGlucose_RANGES_Mid</th>\n",
              "      <th>Age_RANGES_</th>\n",
              "      <th>Age_RANGES_High</th>\n",
              "      <th>Age_RANGES_Low</th>\n",
              "      <th>Age_RANGES_Mid</th>\n",
              "    </tr>\n",
              "  </thead>\n",
              "  <tbody>\n",
              "    <tr>\n",
              "      <th>0</th>\n",
              "      <td>-0.361738</td>\n",
              "      <td>0.913396</td>\n",
              "      <td>0.255023</td>\n",
              "      <td>1.905890</td>\n",
              "      <td>1.446956</td>\n",
              "      <td>1</td>\n",
              "      <td>1</td>\n",
              "      <td>0</td>\n",
              "      <td>0</td>\n",
              "      <td>0</td>\n",
              "      <td>0</td>\n",
              "      <td>0</td>\n",
              "      <td>0</td>\n",
              "      <td>0</td>\n",
              "      <td>0</td>\n",
              "      <td>1</td>\n",
              "      <td>0</td>\n",
              "      <td>0</td>\n",
              "      <td>1</td>\n",
              "      <td>0</td>\n",
              "      <td>0</td>\n",
              "      <td>0</td>\n",
              "      <td>0</td>\n",
              "      <td>1</td>\n",
              "      <td>0</td>\n",
              "      <td>1</td>\n",
              "      <td>0</td>\n",
              "      <td>0</td>\n",
              "      <td>0</td>\n",
              "      <td>0</td>\n",
              "      <td>1</td>\n",
              "      <td>0</td>\n",
              "    </tr>\n",
              "    <tr>\n",
              "      <th>1</th>\n",
              "      <td>0.380777</td>\n",
              "      <td>1.457027</td>\n",
              "      <td>0.975539</td>\n",
              "      <td>1.298340</td>\n",
              "      <td>-0.532088</td>\n",
              "      <td>1</td>\n",
              "      <td>1</td>\n",
              "      <td>0</td>\n",
              "      <td>0</td>\n",
              "      <td>0</td>\n",
              "      <td>0</td>\n",
              "      <td>0</td>\n",
              "      <td>0</td>\n",
              "      <td>0</td>\n",
              "      <td>0</td>\n",
              "      <td>1</td>\n",
              "      <td>0</td>\n",
              "      <td>1</td>\n",
              "      <td>0</td>\n",
              "      <td>0</td>\n",
              "      <td>0</td>\n",
              "      <td>0</td>\n",
              "      <td>0</td>\n",
              "      <td>0</td>\n",
              "      <td>1</td>\n",
              "      <td>1</td>\n",
              "      <td>0</td>\n",
              "      <td>0</td>\n",
              "      <td>0</td>\n",
              "      <td>0</td>\n",
              "      <td>0</td>\n",
              "      <td>1</td>\n",
              "    </tr>\n",
              "    <tr>\n",
              "      <th>2</th>\n",
              "      <td>-0.064732</td>\n",
              "      <td>-1.261127</td>\n",
              "      <td>-0.465493</td>\n",
              "      <td>-0.220537</td>\n",
              "      <td>0.704815</td>\n",
              "      <td>1</td>\n",
              "      <td>0</td>\n",
              "      <td>0</td>\n",
              "      <td>0</td>\n",
              "      <td>0</td>\n",
              "      <td>1</td>\n",
              "      <td>0</td>\n",
              "      <td>0</td>\n",
              "      <td>0</td>\n",
              "      <td>0</td>\n",
              "      <td>0</td>\n",
              "      <td>1</td>\n",
              "      <td>0</td>\n",
              "      <td>0</td>\n",
              "      <td>0</td>\n",
              "      <td>1</td>\n",
              "      <td>1</td>\n",
              "      <td>0</td>\n",
              "      <td>0</td>\n",
              "      <td>0</td>\n",
              "      <td>0</td>\n",
              "      <td>0</td>\n",
              "      <td>1</td>\n",
              "      <td>0</td>\n",
              "      <td>0</td>\n",
              "      <td>1</td>\n",
              "      <td>0</td>\n",
              "    </tr>\n",
              "    <tr>\n",
              "      <th>3</th>\n",
              "      <td>0.009519</td>\n",
              "      <td>1.457027</td>\n",
              "      <td>0.615281</td>\n",
              "      <td>-0.524312</td>\n",
              "      <td>-0.532088</td>\n",
              "      <td>1</td>\n",
              "      <td>1</td>\n",
              "      <td>0</td>\n",
              "      <td>0</td>\n",
              "      <td>0</td>\n",
              "      <td>0</td>\n",
              "      <td>0</td>\n",
              "      <td>0</td>\n",
              "      <td>0</td>\n",
              "      <td>0</td>\n",
              "      <td>1</td>\n",
              "      <td>0</td>\n",
              "      <td>1</td>\n",
              "      <td>0</td>\n",
              "      <td>0</td>\n",
              "      <td>0</td>\n",
              "      <td>1</td>\n",
              "      <td>0</td>\n",
              "      <td>0</td>\n",
              "      <td>0</td>\n",
              "      <td>0</td>\n",
              "      <td>1</td>\n",
              "      <td>0</td>\n",
              "      <td>0</td>\n",
              "      <td>0</td>\n",
              "      <td>0</td>\n",
              "      <td>1</td>\n",
              "    </tr>\n",
              "    <tr>\n",
              "      <th>4</th>\n",
              "      <td>0.380777</td>\n",
              "      <td>0.369765</td>\n",
              "      <td>-1.186009</td>\n",
              "      <td>-0.797710</td>\n",
              "      <td>0.210054</td>\n",
              "      <td>0</td>\n",
              "      <td>1</td>\n",
              "      <td>0</td>\n",
              "      <td>0</td>\n",
              "      <td>0</td>\n",
              "      <td>0</td>\n",
              "      <td>0</td>\n",
              "      <td>0</td>\n",
              "      <td>0</td>\n",
              "      <td>0</td>\n",
              "      <td>1</td>\n",
              "      <td>0</td>\n",
              "      <td>0</td>\n",
              "      <td>0</td>\n",
              "      <td>0</td>\n",
              "      <td>1</td>\n",
              "      <td>1</td>\n",
              "      <td>0</td>\n",
              "      <td>0</td>\n",
              "      <td>0</td>\n",
              "      <td>0</td>\n",
              "      <td>1</td>\n",
              "      <td>0</td>\n",
              "      <td>0</td>\n",
              "      <td>0</td>\n",
              "      <td>0</td>\n",
              "      <td>1</td>\n",
              "    </tr>\n",
              "  </tbody>\n",
              "</table>\n",
              "</div>\n",
              "    <div class=\"colab-df-buttons\">\n",
              "\n",
              "  <div class=\"colab-df-container\">\n",
              "    <button class=\"colab-df-convert\" onclick=\"convertToInteractive('df-2c63214a-7121-4999-9152-1d0479cb4c2d')\"\n",
              "            title=\"Convert this dataframe to an interactive table.\"\n",
              "            style=\"display:none;\">\n",
              "\n",
              "  <svg xmlns=\"http://www.w3.org/2000/svg\" height=\"24px\" viewBox=\"0 -960 960 960\">\n",
              "    <path d=\"M120-120v-720h720v720H120Zm60-500h600v-160H180v160Zm220 220h160v-160H400v160Zm0 220h160v-160H400v160ZM180-400h160v-160H180v160Zm440 0h160v-160H620v160ZM180-180h160v-160H180v160Zm440 0h160v-160H620v160Z\"/>\n",
              "  </svg>\n",
              "    </button>\n",
              "\n",
              "  <style>\n",
              "    .colab-df-container {\n",
              "      display:flex;\n",
              "      gap: 12px;\n",
              "    }\n",
              "\n",
              "    .colab-df-convert {\n",
              "      background-color: #E8F0FE;\n",
              "      border: none;\n",
              "      border-radius: 50%;\n",
              "      cursor: pointer;\n",
              "      display: none;\n",
              "      fill: #1967D2;\n",
              "      height: 32px;\n",
              "      padding: 0 0 0 0;\n",
              "      width: 32px;\n",
              "    }\n",
              "\n",
              "    .colab-df-convert:hover {\n",
              "      background-color: #E2EBFA;\n",
              "      box-shadow: 0px 1px 2px rgba(60, 64, 67, 0.3), 0px 1px 3px 1px rgba(60, 64, 67, 0.15);\n",
              "      fill: #174EA6;\n",
              "    }\n",
              "\n",
              "    .colab-df-buttons div {\n",
              "      margin-bottom: 4px;\n",
              "    }\n",
              "\n",
              "    [theme=dark] .colab-df-convert {\n",
              "      background-color: #3B4455;\n",
              "      fill: #D2E3FC;\n",
              "    }\n",
              "\n",
              "    [theme=dark] .colab-df-convert:hover {\n",
              "      background-color: #434B5C;\n",
              "      box-shadow: 0px 1px 3px 1px rgba(0, 0, 0, 0.15);\n",
              "      filter: drop-shadow(0px 1px 2px rgba(0, 0, 0, 0.3));\n",
              "      fill: #FFFFFF;\n",
              "    }\n",
              "  </style>\n",
              "\n",
              "    <script>\n",
              "      const buttonEl =\n",
              "        document.querySelector('#df-2c63214a-7121-4999-9152-1d0479cb4c2d button.colab-df-convert');\n",
              "      buttonEl.style.display =\n",
              "        google.colab.kernel.accessAllowed ? 'block' : 'none';\n",
              "\n",
              "      async function convertToInteractive(key) {\n",
              "        const element = document.querySelector('#df-2c63214a-7121-4999-9152-1d0479cb4c2d');\n",
              "        const dataTable =\n",
              "          await google.colab.kernel.invokeFunction('convertToInteractive',\n",
              "                                                    [key], {});\n",
              "        if (!dataTable) return;\n",
              "\n",
              "        const docLinkHtml = 'Like what you see? Visit the ' +\n",
              "          '<a target=\"_blank\" href=https://colab.research.google.com/notebooks/data_table.ipynb>data table notebook</a>'\n",
              "          + ' to learn more about interactive tables.';\n",
              "        element.innerHTML = '';\n",
              "        dataTable['output_type'] = 'display_data';\n",
              "        await google.colab.output.renderOutput(dataTable, element);\n",
              "        const docLink = document.createElement('div');\n",
              "        docLink.innerHTML = docLinkHtml;\n",
              "        element.appendChild(docLink);\n",
              "      }\n",
              "    </script>\n",
              "  </div>\n",
              "\n",
              "\n",
              "<div id=\"df-70eb37f5-e825-46dc-9f6d-78d5903e3485\">\n",
              "  <button class=\"colab-df-quickchart\" onclick=\"quickchart('df-70eb37f5-e825-46dc-9f6d-78d5903e3485')\"\n",
              "            title=\"Suggest charts\"\n",
              "            style=\"display:none;\">\n",
              "\n",
              "<svg xmlns=\"http://www.w3.org/2000/svg\" height=\"24px\"viewBox=\"0 0 24 24\"\n",
              "     width=\"24px\">\n",
              "    <g>\n",
              "        <path d=\"M19 3H5c-1.1 0-2 .9-2 2v14c0 1.1.9 2 2 2h14c1.1 0 2-.9 2-2V5c0-1.1-.9-2-2-2zM9 17H7v-7h2v7zm4 0h-2V7h2v10zm4 0h-2v-4h2v4z\"/>\n",
              "    </g>\n",
              "</svg>\n",
              "  </button>\n",
              "\n",
              "<style>\n",
              "  .colab-df-quickchart {\n",
              "      --bg-color: #E8F0FE;\n",
              "      --fill-color: #1967D2;\n",
              "      --hover-bg-color: #E2EBFA;\n",
              "      --hover-fill-color: #174EA6;\n",
              "      --disabled-fill-color: #AAA;\n",
              "      --disabled-bg-color: #DDD;\n",
              "  }\n",
              "\n",
              "  [theme=dark] .colab-df-quickchart {\n",
              "      --bg-color: #3B4455;\n",
              "      --fill-color: #D2E3FC;\n",
              "      --hover-bg-color: #434B5C;\n",
              "      --hover-fill-color: #FFFFFF;\n",
              "      --disabled-bg-color: #3B4455;\n",
              "      --disabled-fill-color: #666;\n",
              "  }\n",
              "\n",
              "  .colab-df-quickchart {\n",
              "    background-color: var(--bg-color);\n",
              "    border: none;\n",
              "    border-radius: 50%;\n",
              "    cursor: pointer;\n",
              "    display: none;\n",
              "    fill: var(--fill-color);\n",
              "    height: 32px;\n",
              "    padding: 0;\n",
              "    width: 32px;\n",
              "  }\n",
              "\n",
              "  .colab-df-quickchart:hover {\n",
              "    background-color: var(--hover-bg-color);\n",
              "    box-shadow: 0 1px 2px rgba(60, 64, 67, 0.3), 0 1px 3px 1px rgba(60, 64, 67, 0.15);\n",
              "    fill: var(--button-hover-fill-color);\n",
              "  }\n",
              "\n",
              "  .colab-df-quickchart-complete:disabled,\n",
              "  .colab-df-quickchart-complete:disabled:hover {\n",
              "    background-color: var(--disabled-bg-color);\n",
              "    fill: var(--disabled-fill-color);\n",
              "    box-shadow: none;\n",
              "  }\n",
              "\n",
              "  .colab-df-spinner {\n",
              "    border: 2px solid var(--fill-color);\n",
              "    border-color: transparent;\n",
              "    border-bottom-color: var(--fill-color);\n",
              "    animation:\n",
              "      spin 1s steps(1) infinite;\n",
              "  }\n",
              "\n",
              "  @keyframes spin {\n",
              "    0% {\n",
              "      border-color: transparent;\n",
              "      border-bottom-color: var(--fill-color);\n",
              "      border-left-color: var(--fill-color);\n",
              "    }\n",
              "    20% {\n",
              "      border-color: transparent;\n",
              "      border-left-color: var(--fill-color);\n",
              "      border-top-color: var(--fill-color);\n",
              "    }\n",
              "    30% {\n",
              "      border-color: transparent;\n",
              "      border-left-color: var(--fill-color);\n",
              "      border-top-color: var(--fill-color);\n",
              "      border-right-color: var(--fill-color);\n",
              "    }\n",
              "    40% {\n",
              "      border-color: transparent;\n",
              "      border-right-color: var(--fill-color);\n",
              "      border-top-color: var(--fill-color);\n",
              "    }\n",
              "    60% {\n",
              "      border-color: transparent;\n",
              "      border-right-color: var(--fill-color);\n",
              "    }\n",
              "    80% {\n",
              "      border-color: transparent;\n",
              "      border-right-color: var(--fill-color);\n",
              "      border-bottom-color: var(--fill-color);\n",
              "    }\n",
              "    90% {\n",
              "      border-color: transparent;\n",
              "      border-bottom-color: var(--fill-color);\n",
              "    }\n",
              "  }\n",
              "</style>\n",
              "\n",
              "  <script>\n",
              "    async function quickchart(key) {\n",
              "      const quickchartButtonEl =\n",
              "        document.querySelector('#' + key + ' button');\n",
              "      quickchartButtonEl.disabled = true;  // To prevent multiple clicks.\n",
              "      quickchartButtonEl.classList.add('colab-df-spinner');\n",
              "      try {\n",
              "        const charts = await google.colab.kernel.invokeFunction(\n",
              "            'suggestCharts', [key], {});\n",
              "      } catch (error) {\n",
              "        console.error('Error during call to suggestCharts:', error);\n",
              "      }\n",
              "      quickchartButtonEl.classList.remove('colab-df-spinner');\n",
              "      quickchartButtonEl.classList.add('colab-df-quickchart-complete');\n",
              "    }\n",
              "    (() => {\n",
              "      let quickchartButtonEl =\n",
              "        document.querySelector('#df-70eb37f5-e825-46dc-9f6d-78d5903e3485 button');\n",
              "      quickchartButtonEl.style.display =\n",
              "        google.colab.kernel.accessAllowed ? 'block' : 'none';\n",
              "    })();\n",
              "  </script>\n",
              "</div>\n",
              "\n",
              "    </div>\n",
              "  </div>\n"
            ]
          },
          "metadata": {},
          "execution_count": 451
        }
      ]
    },
    {
      "cell_type": "markdown",
      "source": [
        "# kNN Algoritması"
      ],
      "metadata": {
        "id": "9_-rF3t6_4S_"
      }
    },
    {
      "cell_type": "code",
      "source": [
        "from sklearn.metrics import classification_report, roc_auc_score, confusion_matrix, cohen_kappa_score\n",
        "from sklearn.model_selection import GridSearchCV, cross_validate\n",
        "from sklearn.neighbors import KNeighborsClassifier\n",
        "from sklearn.preprocessing import StandardScaler\n",
        "\n",
        "pd.set_option('display.max_columns', None)\n",
        "pd.set_option('display.width', 500)"
      ],
      "metadata": {
        "id": "hnXd5ljQ_37M"
      },
      "execution_count": null,
      "outputs": []
    },
    {
      "cell_type": "code",
      "source": [
        "y = df[\"RISKLEVEL\"]\n",
        "X = df.drop([\"RISKLEVEL\"], axis=1)\n",
        "\n",
        "X_scaled = StandardScaler().fit_transform(X)\n",
        "X = pd.DataFrame(X_scaled, columns=X.columns)\n",
        "\n",
        "knn_model = KNeighborsClassifier().fit(X, y)"
      ],
      "metadata": {
        "id": "ux-FR43jAPxt"
      },
      "execution_count": null,
      "outputs": []
    },
    {
      "cell_type": "code",
      "source": [
        "random_user = X.sample(1, random_state=45)\n",
        "\n",
        "knn_model.predict(random_user)"
      ],
      "metadata": {
        "id": "8UuvmiYEApJv",
        "colab": {
          "base_uri": "https://localhost:8080/"
        },
        "outputId": "6e8b3cc8-c359-4e62-b2c2-3ddeb843e5e0"
      },
      "execution_count": null,
      "outputs": [
        {
          "output_type": "execute_result",
          "data": {
            "text/plain": [
              "array([1])"
            ]
          },
          "metadata": {},
          "execution_count": 454
        }
      ]
    },
    {
      "cell_type": "markdown",
      "source": [
        "Hyperparameter Optimization"
      ],
      "metadata": {
        "id": "96RxPcIOBWe6"
      }
    },
    {
      "cell_type": "code",
      "source": [
        "knn_model = KNeighborsClassifier()\n",
        "knn_model.get_params()\n",
        "\n",
        "knn_params = {\"n_neighbors\": range(2, 50)}\n",
        "knn_gs_best = GridSearchCV(knn_model,\n",
        "                           knn_params,\n",
        "                           cv=5,\n",
        "                           n_jobs=-1,\n",
        "                           verbose=1).fit(X, y)\n",
        "\n",
        "knn_gs_best.best_params_\n",
        "# {'n_neighbors': 41}"
      ],
      "metadata": {
        "id": "GcdIphOdBXdm",
        "colab": {
          "base_uri": "https://localhost:8080/"
        },
        "outputId": "44a33cdf-ac3f-4e58-a2e4-d05990085e5b"
      },
      "execution_count": null,
      "outputs": [
        {
          "output_type": "stream",
          "name": "stdout",
          "text": [
            "Fitting 5 folds for each of 48 candidates, totalling 240 fits\n"
          ]
        },
        {
          "output_type": "execute_result",
          "data": {
            "text/plain": [
              "{'n_neighbors': 41}"
            ]
          },
          "metadata": {},
          "execution_count": 455
        }
      ]
    },
    {
      "cell_type": "code",
      "source": [
        "knn_final = knn_model.set_params(**knn_gs_best.best_params_).fit(X, y)  # bulduğumuz en iyi komşuluk değerini set ediyoruz. ** ile otomatik atama yapılır.\n",
        "\n",
        "cv_results = cross_validate(knn_final,\n",
        "                            X,\n",
        "                            y,\n",
        "                            cv=5,\n",
        "                            scoring=[\"accuracy\", \"f1\", \"roc_auc\"])\n",
        "\n",
        "cv_results['test_accuracy'].mean()"
      ],
      "metadata": {
        "id": "_vylXQoSBwo-",
        "colab": {
          "base_uri": "https://localhost:8080/"
        },
        "outputId": "92633390-4d39-4900-919a-c6c80bd57eda"
      },
      "execution_count": null,
      "outputs": [
        {
          "output_type": "execute_result",
          "data": {
            "text/plain": [
              "0.7633029312783496"
            ]
          },
          "metadata": {},
          "execution_count": 456
        }
      ]
    },
    {
      "cell_type": "code",
      "source": [
        "y_pred = knn_final.predict(X)\n",
        "print(classification_report(y, y_pred))"
      ],
      "metadata": {
        "id": "8crkQ5Q9Da2L",
        "colab": {
          "base_uri": "https://localhost:8080/"
        },
        "outputId": "4541ea46-2b3d-40ee-f1a2-e5b84a523c29"
      },
      "execution_count": null,
      "outputs": [
        {
          "output_type": "stream",
          "name": "stdout",
          "text": [
            "              precision    recall  f1-score   support\n",
            "\n",
            "           0       0.74      0.93      0.82       576\n",
            "           1       0.86      0.56      0.68       438\n",
            "\n",
            "    accuracy                           0.77      1014\n",
            "   macro avg       0.80      0.75      0.75      1014\n",
            "weighted avg       0.79      0.77      0.76      1014\n",
            "\n"
          ]
        }
      ]
    },
    {
      "cell_type": "code",
      "source": [
        "y_probs = knn_model.predict_proba(X)\n",
        "roc_auc_scores = roc_auc_score(pd.get_dummies(y), y_probs, multi_class=\"ovr\")\n",
        "\n",
        "print(\"Macro Average ROC AUC Score:\", roc_auc_scores)"
      ],
      "metadata": {
        "colab": {
          "base_uri": "https://localhost:8080/"
        },
        "id": "Q2Y4MxahTKKu",
        "outputId": "93dd181b-d446-4901-a19a-42a1d162178f"
      },
      "execution_count": null,
      "outputs": [
        {
          "output_type": "stream",
          "name": "stdout",
          "text": [
            "Macro Average ROC AUC Score: 0.8311790493404363\n"
          ]
        }
      ]
    },
    {
      "cell_type": "code",
      "source": [
        "conf_matrix = confusion_matrix(y, y_pred)\n",
        "print(\"Confusion Matrix:\")\n",
        "print(conf_matrix)\n",
        "\n",
        "true_positive = conf_matrix[1, 1]\n",
        "false_positive = conf_matrix[0, 1]\n",
        "true_negative = conf_matrix[0, 0]\n",
        "false_negative = conf_matrix[1, 0]\n",
        "\n",
        "sensitivity = true_positive / (true_positive + false_negative)\n",
        "specificity = true_negative / (true_negative + false_positive)\n",
        "\n",
        "print(f\"Sensitivity: {sensitivity}\")\n",
        "print(f\"Specificity: {specificity}\")"
      ],
      "metadata": {
        "id": "dZIrn4iI41rV",
        "colab": {
          "base_uri": "https://localhost:8080/"
        },
        "outputId": "e33aa559-671c-4100-edcc-087a03e2b53f"
      },
      "execution_count": null,
      "outputs": [
        {
          "output_type": "stream",
          "name": "stdout",
          "text": [
            "Confusion Matrix:\n",
            "[[535  41]\n",
            " [191 247]]\n",
            "Sensitivity: 0.5639269406392694\n",
            "Specificity: 0.9288194444444444\n"
          ]
        }
      ]
    },
    {
      "cell_type": "code",
      "source": [
        "kappa = cohen_kappa_score(y, y_pred)\n",
        "print(f\"Cohen's Kappa: {kappa}\")"
      ],
      "metadata": {
        "id": "bPe12yQu6o6g",
        "colab": {
          "base_uri": "https://localhost:8080/"
        },
        "outputId": "74ed1699-6590-42c4-f6a3-73e540ea6da4"
      },
      "execution_count": null,
      "outputs": [
        {
          "output_type": "stream",
          "name": "stdout",
          "text": [
            "Cohen's Kappa: 0.5138258562110953\n"
          ]
        }
      ]
    },
    {
      "cell_type": "markdown",
      "source": [
        "# SVM Algoritması\n"
      ],
      "metadata": {
        "id": "pRpV1WszFc_2"
      }
    },
    {
      "cell_type": "code",
      "source": [
        "from sklearn.ensemble import RandomForestClassifier, GradientBoostingClassifier, VotingClassifier\n",
        "from sklearn.model_selection import GridSearchCV, cross_validate, RandomizedSearchCV, validation_curve\n",
        "from sklearn import datasets, svm\n",
        "from sklearn.svm import SVC\n",
        "import warnings\n",
        "\n",
        "pd.set_option('display.max_columns', None)\n",
        "pd.set_option('display.width', 500)\n",
        "\n",
        "warnings.simplefilter(action='ignore', category=Warning)"
      ],
      "metadata": {
        "id": "Zj5MsqVvFkeG"
      },
      "execution_count": null,
      "outputs": []
    },
    {
      "cell_type": "code",
      "source": [
        "y = df[\"RISKLEVEL\"]\n",
        "X = df.drop([\"RISKLEVEL\"], axis=1)\n",
        "\n",
        "X_train, X_test, y_train, y_test = train_test_split(X, y, test_size = 0.25, random_state = 0)\n",
        "\n",
        "sc = StandardScaler()\n",
        "X_train = sc.fit_transform(X_train)\n",
        "X_test = sc.fit_transform(X_test)"
      ],
      "metadata": {
        "id": "Gd8sSFDBJf5P"
      },
      "execution_count": null,
      "outputs": []
    },
    {
      "cell_type": "code",
      "source": [
        "svm = SVC(kernel='rbf', random_state=0, gamma=.10, C=1.0)\n",
        "svm.fit(X_train, y_train)\n",
        "\n",
        "print(\"train accuracy:\",svm.score(X_train,y_train))\n",
        "print(\"test accuracy:\",svm.score(X_test,y_test))"
      ],
      "metadata": {
        "id": "1s-AQ15SJvHl",
        "colab": {
          "base_uri": "https://localhost:8080/"
        },
        "outputId": "879570d5-3ae2-4e88-e25d-131a5f75cd6a"
      },
      "execution_count": null,
      "outputs": [
        {
          "output_type": "stream",
          "name": "stdout",
          "text": [
            "train accuracy: 0.825\n",
            "test accuracy: 0.7322834645669292\n"
          ]
        }
      ]
    },
    {
      "cell_type": "code",
      "source": [
        "y_pred = svm.predict(X_test)\n",
        "print(y_pred)"
      ],
      "metadata": {
        "id": "9mEd7DSZR9VM",
        "colab": {
          "base_uri": "https://localhost:8080/"
        },
        "outputId": "b954c190-9b0b-4cbe-ab9f-7c6a68f95440"
      },
      "execution_count": null,
      "outputs": [
        {
          "output_type": "stream",
          "name": "stdout",
          "text": [
            "[0 0 0 1 1 1 1 1 0 1 0 0 0 0 1 0 0 1 1 0 1 0 0 1 0 0 0 1 0 0 0 1 0 1 0 0 1\n",
            " 0 1 0 0 0 0 0 0 0 1 0 0 0 0 0 1 1 0 0 1 1 0 0 0 1 1 0 1 0 0 0 1 0 0 1 0 0\n",
            " 0 0 0 0 0 0 1 0 0 0 0 1 0 1 0 1 0 1 0 0 1 0 1 0 0 1 1 1 0 0 0 0 0 0 0 1 0\n",
            " 1 0 1 0 1 0 1 0 1 0 0 0 0 0 0 0 0 0 0 0 0 0 0 0 0 0 0 0 0 0 0 1 1 0 1 0 1\n",
            " 0 0 1 0 0 1 0 0 0 0 0 0 0 0 0 1 0 0 0 0 0 1 0 1 0 1 0 1 0 0 0 1 0 0 0 1 0\n",
            " 1 0 1 1 0 0 1 0 0 1 1 0 0 0 1 0 0 1 0 0 1 0 1 0 0 0 1 1 0 1 1 0 0 0 0 0 1\n",
            " 0 0 1 0 0 0 0 0 1 0 0 1 0 0 0 1 0 0 1 0 0 0 0 0 0 1 1 0 1 0 0 0]\n"
          ]
        }
      ]
    },
    {
      "cell_type": "code",
      "source": [
        "accuracy = accuracy_score(y_test, y_pred) * 100\n",
        "print(f\"Accuracy: {accuracy:.2f}%\")\n",
        "\n",
        "report=classification_report(y_test, svm.predict(X_test))\n",
        "print(\"Classification Report:\")\n",
        "\n",
        "lines = report.split('\\n')\n",
        "for line in lines:\n",
        "    print(line)"
      ],
      "metadata": {
        "id": "Ft5-LIzcMqPI",
        "colab": {
          "base_uri": "https://localhost:8080/"
        },
        "outputId": "42b8d016-1c73-437b-fa51-da8aa6fbea80"
      },
      "execution_count": null,
      "outputs": [
        {
          "output_type": "stream",
          "name": "stdout",
          "text": [
            "Accuracy: 73.23%\n",
            "Classification Report:\n",
            "              precision    recall  f1-score   support\n",
            "\n",
            "           0       0.68      0.91      0.78       132\n",
            "           1       0.85      0.54      0.66       122\n",
            "\n",
            "    accuracy                           0.73       254\n",
            "   macro avg       0.76      0.73      0.72       254\n",
            "weighted avg       0.76      0.73      0.72       254\n",
            "\n"
          ]
        }
      ]
    },
    {
      "cell_type": "code",
      "source": [
        "from sklearn.preprocessing import label_binarize\n",
        "\n",
        "y_scores = svm.decision_function(X_test)\n",
        "y_test_bin = label_binarize(y_test, classes=svm.classes_)\n",
        "\n",
        "auc_score = roc_auc_score(y_test_bin, y_scores, average='weighted', multi_class='ovr')\n",
        "print(\"ROC AUC Score:\", auc_score)"
      ],
      "metadata": {
        "id": "F2xv28UOEj4R",
        "colab": {
          "base_uri": "https://localhost:8080/"
        },
        "outputId": "b0a7e68c-a773-442b-971b-865ff0d4daff"
      },
      "execution_count": null,
      "outputs": [
        {
          "output_type": "stream",
          "name": "stdout",
          "text": [
            "ROC AUC Score: 0.7908283656234476\n"
          ]
        }
      ]
    },
    {
      "cell_type": "code",
      "source": [
        "conf_matrix = confusion_matrix(y_test, y_pred)\n",
        "\n",
        "TP = conf_matrix[1, 1]\n",
        "TN = conf_matrix[0, 0]\n",
        "FP = conf_matrix[0, 1]\n",
        "FN = conf_matrix[1, 0]\n",
        "\n",
        "sensitivity = TP / (TP + FN)\n",
        "specificity = TN / (TN + FP)\n",
        "\n",
        "print(\"Sensitivity:\", sensitivity)\n",
        "print(\"Specificity:\", specificity)"
      ],
      "metadata": {
        "id": "JdiyGmIw67yP",
        "colab": {
          "base_uri": "https://localhost:8080/"
        },
        "outputId": "4051c522-ccc5-43b5-bbba-bf257bf4d621"
      },
      "execution_count": null,
      "outputs": [
        {
          "output_type": "stream",
          "name": "stdout",
          "text": [
            "Sensitivity: 0.5409836065573771\n",
            "Specificity: 0.9090909090909091\n"
          ]
        }
      ]
    },
    {
      "cell_type": "code",
      "source": [
        "observed_accuracy = accuracy_score(y_test, y_pred)\n",
        "expected_accuracy = ((TN + FP) * (TN + FN) + (FP + TP) * (FN + TP)) / (len(y_test) ** 2)\n",
        "kappa = (observed_accuracy - expected_accuracy) / (1 - expected_accuracy)\n",
        "print(\"Kappa:\", kappa)"
      ],
      "metadata": {
        "id": "ks1FbdbJ6_CY",
        "colab": {
          "base_uri": "https://localhost:8080/"
        },
        "outputId": "b2b26e21-5872-4ac9-da06-9813a0418942"
      },
      "execution_count": null,
      "outputs": [
        {
          "output_type": "stream",
          "name": "stdout",
          "text": [
            "Kappa: 0.4563082347015866\n"
          ]
        }
      ]
    },
    {
      "cell_type": "markdown",
      "source": [
        "# Karar Ağaçları Algoritması"
      ],
      "metadata": {
        "id": "l9hCdopJVKFj"
      }
    },
    {
      "cell_type": "code",
      "source": [
        "from sklearn.tree import DecisionTreeClassifier\n",
        "from sklearn.model_selection import GridSearchCV\n",
        "\n",
        "tree = DecisionTreeClassifier(random_state=122)\n",
        "\n",
        "param_grid = {\n",
        "    'criterion': ['gini', 'entropy'],\n",
        "    'splitter': ['best', 'random'],\n",
        "    'max_depth': [10, 20, 30],\n",
        "    'min_samples_split': [2, 5, 10],\n",
        "    'min_samples_leaf': [2, 4]\n",
        "}"
      ],
      "metadata": {
        "id": "Jnry_12mVWdg"
      },
      "execution_count": null,
      "outputs": []
    },
    {
      "cell_type": "code",
      "source": [
        "train, test = train_test_split(df, test_size=0.2, random_state=122)\n",
        "\n",
        "Xtrain = train.drop(columns=['RISKLEVEL'], axis=1)\n",
        "ytrain = train['RISKLEVEL']\n",
        "\n",
        "Xtest = test.drop(columns=['RISKLEVEL'], axis=1)\n",
        "ytest = test['RISKLEVEL']"
      ],
      "metadata": {
        "id": "3Jg5ibJ2VXbg"
      },
      "execution_count": null,
      "outputs": []
    },
    {
      "cell_type": "code",
      "source": [
        "grid_search_tree = GridSearchCV(tree, param_grid, cv=5, scoring='accuracy', n_jobs=-1)\n",
        "grid_search_tree.fit(Xtrain, ytrain)\n",
        "\n",
        "print('Best Parameters: ', grid_search_tree.best_params_)\n",
        "print('Best Accuracy: ', grid_search_tree.best_score_)"
      ],
      "metadata": {
        "id": "EYO0wtmHWHLt",
        "colab": {
          "base_uri": "https://localhost:8080/"
        },
        "outputId": "a28d8bbb-c485-4f82-ef50-fbd59ef259b7"
      },
      "execution_count": null,
      "outputs": [
        {
          "output_type": "stream",
          "name": "stdout",
          "text": [
            "Best Parameters:  {'criterion': 'gini', 'max_depth': 10, 'min_samples_leaf': 2, 'min_samples_split': 10, 'splitter': 'random'}\n",
            "Best Accuracy:  0.7916003938498826\n"
          ]
        }
      ]
    },
    {
      "cell_type": "code",
      "source": [
        "best_tree = grid_search_tree.best_estimator_\n",
        "\n",
        "test_accuracy = best_tree.score(Xtest, ytest)\n",
        "print('Test Accuracy: ', test_accuracy)"
      ],
      "metadata": {
        "id": "3Q1uk0vGVOfJ",
        "colab": {
          "base_uri": "https://localhost:8080/"
        },
        "outputId": "4fac89e0-616b-4c73-a1db-f1ccf7870e2f"
      },
      "execution_count": null,
      "outputs": [
        {
          "output_type": "stream",
          "name": "stdout",
          "text": [
            "Test Accuracy:  0.7980295566502463\n"
          ]
        }
      ]
    },
    {
      "cell_type": "code",
      "source": [
        "from sklearn.metrics import confusion_matrix\n",
        "\n",
        "ypred = best_tree.predict(Xtest)\n",
        "\n",
        "labels = ytest.unique()\n",
        "\n",
        "cm_tree = confusion_matrix(ytest, ypred, normalize='true')\n",
        "plt.figure()\n",
        "sns.heatmap(cm_tree, annot=True, cmap='BuPu', xticklabels=labels, yticklabels=labels)\n",
        "plt.show()"
      ],
      "metadata": {
        "id": "Yjc57a26WeI9",
        "colab": {
          "base_uri": "https://localhost:8080/",
          "height": 989
        },
        "outputId": "6b624bb2-7e3b-4b6c-ee41-651ed21ed096"
      },
      "execution_count": null,
      "outputs": [
        {
          "output_type": "display_data",
          "data": {
            "text/plain": [
              "<Figure size 1200x1200 with 2 Axes>"
            ],
            "image/png": "[encoded data removed]"
          },
          "metadata": {}
        }
      ]
    },
    {
      "cell_type": "code",
      "source": [
        "report = classification_report(ytest, ypred)\n",
        "\n",
        "print(\"Classification Report:\")\n",
        "print(report)"
      ],
      "metadata": {
        "id": "k2EdudYd8gwX",
        "colab": {
          "base_uri": "https://localhost:8080/"
        },
        "outputId": "b0dbab4f-cc4f-4e0c-ce7e-e184214d7a60"
      },
      "execution_count": null,
      "outputs": [
        {
          "output_type": "stream",
          "name": "stdout",
          "text": [
            "Classification Report:\n",
            "              precision    recall  f1-score   support\n",
            "\n",
            "           0       0.79      0.90      0.84       119\n",
            "           1       0.82      0.65      0.73        84\n",
            "\n",
            "    accuracy                           0.80       203\n",
            "   macro avg       0.80      0.78      0.78       203\n",
            "weighted avg       0.80      0.80      0.79       203\n",
            "\n"
          ]
        }
      ]
    },
    {
      "cell_type": "code",
      "source": [
        "ytest_pred_proba = best_tree.predict_proba(Xtest)[:, 1]\n",
        "\n",
        "roc_auc_test = roc_auc_score(ytest, ytest_pred_proba)\n",
        "fpr, tpr, _ = roc_curve(ytest, ytest_pred_proba)\n",
        "print(\"Test ROC AUC:\", roc_auc_test)\n",
        "\n",
        "plt.figure(figsize=(8, 6))\n",
        "plt.plot(fpr, tpr, label='ROC Curve (area = {:.2f})'.format(roc_auc_test))\n",
        "plt.plot([0, 1], [0, 1], 'k--', label='Random')\n",
        "plt.xlabel('False Positive Rate')\n",
        "plt.ylabel('True Positive Rate')\n",
        "plt.title('ROC Curve')\n",
        "plt.legend()\n",
        "plt.show()"
      ],
      "metadata": {
        "id": "SchBDPi1EBwi",
        "colab": {
          "base_uri": "https://localhost:8080/",
          "height": 591
        },
        "outputId": "06825b2b-7224-4133-e9f2-45f0404e50bf"
      },
      "execution_count": null,
      "outputs": [
        {
          "output_type": "stream",
          "name": "stdout",
          "text": [
            "Test ROC AUC: 0.8445378151260505\n"
          ]
        },
        {
          "output_type": "display_data",
          "data": {
            "text/plain": [
              "<Figure size 800x600 with 1 Axes>"
            ],
            "image/png": "[encoded data removed]"
          },
          "metadata": {}
        }
      ]
    },
    {
      "cell_type": "code",
      "source": [
        "conf_matrix = confusion_matrix(ytest, ypred)\n",
        "\n",
        "TP = conf_matrix[1, 1]\n",
        "TN = conf_matrix[0, 0]\n",
        "FP = conf_matrix[0, 1]\n",
        "FN = conf_matrix[1, 0]\n",
        "\n",
        "specificity = TN / (TN + FP)\n",
        "sensitivity = TP / (TP + FN)\n",
        "\n",
        "print(\"Specificity:\", specificity)\n",
        "print(\"Sensitivity:\", sensitivity)\n"
      ],
      "metadata": {
        "id": "rZLonn2BAolM",
        "colab": {
          "base_uri": "https://localhost:8080/"
        },
        "outputId": "0553c9ec-d61c-4f23-e966-682dfa756417"
      },
      "execution_count": null,
      "outputs": [
        {
          "output_type": "stream",
          "name": "stdout",
          "text": [
            "Specificity: 0.8991596638655462\n",
            "Sensitivity: 0.6547619047619048\n"
          ]
        }
      ]
    },
    {
      "cell_type": "code",
      "source": [
        "observed_accuracy = (TP + TN) / (TP + TN + FP + FN)\n",
        "expected_accuracy = ((TN + FP) * (TN + FN) + (FP + TP) * (FN + TP)) / ((TP + TN + FP + FN) ** 2)\n",
        "kappa = (observed_accuracy - expected_accuracy) / (1 - expected_accuracy)\n",
        "print(\"Kappa:\", kappa)"
      ],
      "metadata": {
        "id": "iKbDIZXzA24b",
        "colab": {
          "base_uri": "https://localhost:8080/"
        },
        "outputId": "18c583bc-10b9-4ebe-adaa-303639e05155"
      },
      "execution_count": null,
      "outputs": [
        {
          "output_type": "stream",
          "name": "stdout",
          "text": [
            "Kappa: 0.5709130277878023\n"
          ]
        }
      ]
    },
    {
      "cell_type": "markdown",
      "source": [
        "# Yapay Sinir Ağları ANN"
      ],
      "metadata": {
        "id": "IOeyQXolZtEi"
      }
    },
    {
      "cell_type": "code",
      "source": [
        "import tensorflow as tf\n",
        "from tensorflow.keras.models import Sequential\n",
        "from tensorflow.keras.layers import Dense\n",
        "from sklearn.model_selection import train_test_split\n",
        "from sklearn.preprocessing import StandardScaler\n",
        "from sklearn.preprocessing import LabelEncoder\n",
        "\n",
        "\n",
        "X_train, X_test, y_train, y_test = train_test_split(X, y, test_size=0.25, random_state=42)\n",
        "\n",
        "\n",
        "if y_train.dtype == 'O':\n",
        "    label_encoder = LabelEncoder()\n",
        "    y_train = label_encoder.fit_transform(y_train)\n",
        "    y_test = label_encoder.transform(y_test)\n",
        "\n",
        "scaler = StandardScaler()\n",
        "X_train = scaler.fit_transform(X_train)\n",
        "X_test = scaler.transform(X_test)"
      ],
      "metadata": {
        "id": "aANwlCzzc0pt"
      },
      "execution_count": null,
      "outputs": []
    },
    {
      "cell_type": "code",
      "source": [
        "num_classes = len(set(y_train))\n",
        "\n",
        "model = Sequential()\n",
        "model.add(Dense(units=64, activation='relu', input_dim=X_train.shape[1]))\n",
        "model.add(Dense(units=32, activation='relu'))\n",
        "model.add(Dense(units=num_classes, activation='sigmoid'))\n",
        "\n",
        "\n",
        "model.compile(optimizer='adam', loss='sparse_categorical_crossentropy', metrics=['accuracy'])\n",
        "model.fit(X_train, y_train, epochs=15, batch_size=32, validation_data=(X_test, y_test))"
      ],
      "metadata": {
        "colab": {
          "base_uri": "https://localhost:8080/"
        },
        "id": "v20r7Eq3Z8yD",
        "outputId": "1cd606d1-48d0-4ca8-e6f0-078daf94b908"
      },
      "execution_count": null,
      "outputs": [
        {
          "output_type": "stream",
          "name": "stdout",
          "text": [
            "Epoch 1/15\n",
            "24/24 [==============================] - 1s 12ms/step - loss: 0.6642 - accuracy: 0.6053 - val_loss: 0.5424 - val_accuracy: 0.7638\n",
            "Epoch 2/15\n",
            "24/24 [==============================] - 0s 4ms/step - loss: 0.5150 - accuracy: 0.7750 - val_loss: 0.5079 - val_accuracy: 0.7638\n",
            "Epoch 3/15\n",
            "24/24 [==============================] - 0s 4ms/step - loss: 0.4870 - accuracy: 0.7816 - val_loss: 0.4988 - val_accuracy: 0.7717\n",
            "Epoch 4/15\n",
            "24/24 [==============================] - 0s 4ms/step - loss: 0.4746 - accuracy: 0.7882 - val_loss: 0.4950 - val_accuracy: 0.7677\n",
            "Epoch 5/15\n",
            "24/24 [==============================] - 0s 5ms/step - loss: 0.4618 - accuracy: 0.7934 - val_loss: 0.4954 - val_accuracy: 0.7717\n",
            "Epoch 6/15\n",
            "24/24 [==============================] - 0s 4ms/step - loss: 0.4530 - accuracy: 0.7987 - val_loss: 0.4938 - val_accuracy: 0.7638\n",
            "Epoch 7/15\n",
            "24/24 [==============================] - 0s 4ms/step - loss: 0.4483 - accuracy: 0.7987 - val_loss: 0.4944 - val_accuracy: 0.7717\n",
            "Epoch 8/15\n",
            "24/24 [==============================] - 0s 4ms/step - loss: 0.4417 - accuracy: 0.8000 - val_loss: 0.4929 - val_accuracy: 0.7638\n",
            "Epoch 9/15\n",
            "24/24 [==============================] - 0s 3ms/step - loss: 0.4389 - accuracy: 0.8079 - val_loss: 0.4950 - val_accuracy: 0.7638\n",
            "Epoch 10/15\n",
            "24/24 [==============================] - 0s 4ms/step - loss: 0.4345 - accuracy: 0.8000 - val_loss: 0.4993 - val_accuracy: 0.7520\n",
            "Epoch 11/15\n",
            "24/24 [==============================] - 0s 4ms/step - loss: 0.4306 - accuracy: 0.8053 - val_loss: 0.4977 - val_accuracy: 0.7598\n",
            "Epoch 12/15\n",
            "24/24 [==============================] - 0s 4ms/step - loss: 0.4262 - accuracy: 0.8092 - val_loss: 0.4976 - val_accuracy: 0.7559\n",
            "Epoch 13/15\n",
            "24/24 [==============================] - 0s 4ms/step - loss: 0.4238 - accuracy: 0.8053 - val_loss: 0.4943 - val_accuracy: 0.7559\n",
            "Epoch 14/15\n",
            "24/24 [==============================] - 0s 8ms/step - loss: 0.4256 - accuracy: 0.8145 - val_loss: 0.4927 - val_accuracy: 0.7598\n",
            "Epoch 15/15\n",
            "24/24 [==============================] - 0s 6ms/step - loss: 0.4195 - accuracy: 0.8066 - val_loss: 0.4984 - val_accuracy: 0.7598\n"
          ]
        },
        {
          "output_type": "execute_result",
          "data": {
            "text/plain": [
              "<keras.src.callbacks.History at 0x7a1080f15cf0>"
            ]
          },
          "metadata": {},
          "execution_count": 479
        }
      ]
    },
    {
      "cell_type": "code",
      "source": [
        "y_train_pred_proba = model.predict(X_train)\n",
        "y_train_pred = (y_train_pred_proba > 0.5).astype(int)"
      ],
      "metadata": {
        "id": "wLLCUx3NdLJ2",
        "colab": {
          "base_uri": "https://localhost:8080/"
        },
        "outputId": "b3ab23dd-1f6f-4c49-f61e-3b88a63e3ad7"
      },
      "execution_count": null,
      "outputs": [
        {
          "output_type": "stream",
          "name": "stdout",
          "text": [
            "24/24 [==============================] - 0s 3ms/step\n"
          ]
        }
      ]
    },
    {
      "cell_type": "code",
      "source": [
        "y_test_pred_proba = model.predict(X_test)\n",
        "y_test_pred = (y_test_pred_proba > 0.5).astype(int)"
      ],
      "metadata": {
        "id": "rYP-UgsfdRif",
        "colab": {
          "base_uri": "https://localhost:8080/"
        },
        "outputId": "0c53020b-a0f0-4daf-fcb5-193fb576f90c"
      },
      "execution_count": null,
      "outputs": [
        {
          "output_type": "stream",
          "name": "stdout",
          "text": [
            "8/8 [==============================] - 0s 3ms/step\n"
          ]
        }
      ]
    },
    {
      "cell_type": "code",
      "source": [
        "# Train accuracy\n",
        "y_train_pred_proba = model.predict(X_train)\n",
        "y_train_pred = y_train_pred_proba.argmax(axis=1)\n",
        "train_accuracy = accuracy_score(y_train, y_train_pred)\n",
        "print(\"Train Accuracy:\", train_accuracy)\n",
        "\n",
        "# Test accuracy\n",
        "y_test_pred_proba = model.predict(X_test)\n",
        "y_test_pred = y_test_pred_proba.argmax(axis=1)\n",
        "test_accuracy = accuracy_score(y_test, y_test_pred)\n",
        "print(\"Test Accuracy:\", test_accuracy)"
      ],
      "metadata": {
        "id": "KR4BPad5dWbS",
        "colab": {
          "base_uri": "https://localhost:8080/"
        },
        "outputId": "a66d3c89-9a56-4a2b-a9a6-231a1277395b"
      },
      "execution_count": null,
      "outputs": [
        {
          "output_type": "stream",
          "name": "stdout",
          "text": [
            "24/24 [==============================] - 0s 3ms/step\n",
            "Train Accuracy: 0.8039473684210526\n",
            "8/8 [==============================] - 0s 5ms/step\n",
            "Test Accuracy: 0.7598425196850394\n"
          ]
        }
      ]
    },
    {
      "cell_type": "code",
      "source": [
        "conf_matrix = confusion_matrix(y_test, y_test_pred)\n",
        "print(\"Confusion Matrix:\")\n",
        "print(conf_matrix)\n",
        "\n",
        "class_report = classification_report(y_test, y_test_pred)\n",
        "print(\"Classification Report:\")\n",
        "print(class_report)"
      ],
      "metadata": {
        "id": "fYtckajrdWr6",
        "colab": {
          "base_uri": "https://localhost:8080/"
        },
        "outputId": "5d3f87ff-c7aa-4e91-ec3e-b837ab668315"
      },
      "execution_count": null,
      "outputs": [
        {
          "output_type": "stream",
          "name": "stdout",
          "text": [
            "Confusion Matrix:\n",
            "[[132  15]\n",
            " [ 46  61]]\n",
            "Classification Report:\n",
            "              precision    recall  f1-score   support\n",
            "\n",
            "           0       0.74      0.90      0.81       147\n",
            "           1       0.80      0.57      0.67       107\n",
            "\n",
            "    accuracy                           0.76       254\n",
            "   macro avg       0.77      0.73      0.74       254\n",
            "weighted avg       0.77      0.76      0.75       254\n",
            "\n"
          ]
        }
      ]
    },
    {
      "cell_type": "code",
      "source": [
        "conf_matrix = confusion_matrix(y_test, y_test_pred)\n",
        "\n",
        "TP = conf_matrix[1, 1]\n",
        "TN = conf_matrix[0, 0]\n",
        "FP = conf_matrix[0, 1]\n",
        "FN = conf_matrix[1, 0]\n",
        "\n",
        "specificity = TN / (TN + FP)\n",
        "sensitivity = TP / (TP + FN)\n",
        "\n",
        "print(\"Specificity:\", specificity)\n",
        "print(\"Sensitivity:\", sensitivity)"
      ],
      "metadata": {
        "id": "JoiZr7cJj3Wm",
        "colab": {
          "base_uri": "https://localhost:8080/"
        },
        "outputId": "701d1925-b472-4c15-a50b-55f87fcf3baf"
      },
      "execution_count": null,
      "outputs": [
        {
          "output_type": "stream",
          "name": "stdout",
          "text": [
            "Specificity: 0.8979591836734694\n",
            "Sensitivity: 0.5700934579439252\n"
          ]
        }
      ]
    },
    {
      "cell_type": "code",
      "source": [
        "observed_accuracy = (TP + TN) / (TP + TN + FP + FN)\n",
        "expected_accuracy = ((TN + FP) * (TN + FN) + (FP + TP) * (FN + TP)) / ((TP + TN + FP + FN) ** 2)\n",
        "kappa = (observed_accuracy - expected_accuracy) / (1 - expected_accuracy)\n",
        "print(\"Kappa:\", kappa)"
      ],
      "metadata": {
        "id": "ogOnm4CGCQR6",
        "colab": {
          "base_uri": "https://localhost:8080/"
        },
        "outputId": "39940004-2504-46d2-b6b3-d3b2c7b80bf2"
      },
      "execution_count": null,
      "outputs": [
        {
          "output_type": "stream",
          "name": "stdout",
          "text": [
            "Kappa: 0.4872592494539678\n"
          ]
        }
      ]
    },
    {
      "cell_type": "code",
      "source": [
        "y_train_pred_proba = model.predict(X_train)\n",
        "y_train_pred_proba = y_train_pred_proba[:, 1]\n",
        "\n",
        "roc_auc_train = roc_auc_score(y_train, y_train_pred_proba)\n",
        "fpr_train, tpr_train, _ = roc_curve(y_train, y_train_pred_proba)\n",
        "\n",
        "\n",
        "print(\"Train ROC AUC:\", roc_auc_train)"
      ],
      "metadata": {
        "colab": {
          "base_uri": "https://localhost:8080/"
        },
        "id": "WTUvueuAeIym",
        "outputId": "712bbbe2-b52c-45b5-83fb-c8f0c3d82f02"
      },
      "execution_count": null,
      "outputs": [
        {
          "output_type": "stream",
          "name": "stdout",
          "text": [
            "24/24 [==============================] - 0s 3ms/step\n",
            "Train ROC AUC: 0.867122303678195\n"
          ]
        }
      ]
    },
    {
      "cell_type": "code",
      "source": [
        "y_test_pred_proba = model.predict(X_test)\n",
        "y_test_pred_proba = y_test_pred_proba[:, 1]\n",
        "\n",
        "roc_auc_test = roc_auc_score(y_test, y_test_pred_proba)\n",
        "fpr_test, tpr_test, _ = roc_curve(y_test, y_test_pred_proba)\n",
        "\n",
        "print(\"Test ROC AUC:\", roc_auc_test)"
      ],
      "metadata": {
        "colab": {
          "base_uri": "https://localhost:8080/"
        },
        "id": "GtLTD2PLeg1j",
        "outputId": "5b10ff2b-392a-474c-89a7-5bbe00bea53b"
      },
      "execution_count": null,
      "outputs": [
        {
          "output_type": "stream",
          "name": "stdout",
          "text": [
            "8/8 [==============================] - 0s 3ms/step\n",
            "Test ROC AUC: 0.7973488460804883\n"
          ]
        }
      ]
    }
  ]
}